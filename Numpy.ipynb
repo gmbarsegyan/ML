{
 "cells": [
  {
   "cell_type": "code",
   "execution_count": 89,
   "id": "e71c173e",
   "metadata": {},
   "outputs": [],
   "source": [
    "import numpy as np\n",
    "def result_mark(weights: np.array, marks: np.array) -> int:\n",
    "    return round(sum((weights * marks)))"
   ]
  },
  {
   "cell_type": "code",
   "execution_count": 30,
   "id": "72f5ce3c",
   "metadata": {},
   "outputs": [],
   "source": [
    "def change_array(array: np.array, number: int) -> np.array:\n",
    "    array = array.T\n",
    "    array[::3] = number\n",
    "    return array.T"
   ]
  },
  {
   "cell_type": "code",
   "execution_count": 48,
   "id": "7549d72f",
   "metadata": {},
   "outputs": [],
   "source": [
    "def find_close(array1: np.array, array2: np.array,\n",
    "               precision: float) -> np.array:\n",
    "    dif_array = abs(array2-array1) <= precision\n",
    "    return np.arange(len(array1))[dif_array]"
   ]
  },
  {
   "cell_type": "code",
   "execution_count": 56,
   "id": "6592c0f8",
   "metadata": {},
   "outputs": [],
   "source": [
    "def block_matrix(block: np.array) -> np.array:\n",
    "    row_block = np.hstack((block, block))\n",
    "    result_block = np.vstack((row_block, row_block))\n",
    "    return result_block"
   ]
  },
  {
   "cell_type": "code",
   "execution_count": 77,
   "id": "1a25a998",
   "metadata": {},
   "outputs": [],
   "source": [
    "def diag_prod(matrix: np.array) -> int:\n",
    "    matrix[matrix == 0] = 1\n",
    "    matrix_1 = np.identity(len(matrix))\n",
    "    return np.prod(matrix[matrix_1 == 1.])"
   ]
  },
  {
   "cell_type": "code",
   "execution_count": 62,
   "id": "df658251",
   "metadata": {},
   "outputs": [],
   "source": [
    "def normalize(matrix: np.array) -> np.array:\n",
    "    EV = np.mean(matrix, axis = 0)\n",
    "    stdiv = np.std(matrix, axis = 0)\n",
    "    return (matrix - EV)/stdiv"
   ]
  },
  {
   "cell_type": "code",
   "execution_count": 116,
   "id": "fe3dedac",
   "metadata": {},
   "outputs": [
    {
     "name": "stdout",
     "output_type": "stream",
     "text": [
      "[3 0 5]\n"
     ]
    },
    {
     "data": {
      "text/plain": [
       "5"
      ]
     },
     "execution_count": 116,
     "metadata": {},
     "output_type": "execute_result"
    }
   ],
   "source": []
  },
  {
   "cell_type": "code",
   "execution_count": 126,
   "id": "b7f59799",
   "metadata": {},
   "outputs": [],
   "source": [
    "def make_symmetric(matrix: np.array) -> np.array:\n",
    "    matrix[:,0] = matrix[0,:]\n",
    "    matrix[:,1] = matrix[1,:]\n",
    "    matrix[:,2] = matrix[2,:]\n",
    "    matrix[:,3] = matrix[3,:]\n",
    "    return matrix"
   ]
  },
  {
   "cell_type": "code",
   "execution_count": 106,
   "id": "f703ef82",
   "metadata": {},
   "outputs": [],
   "source": [
    "def construct_matrix(m: int, a: int, b: int) -> np.array:\n",
    "    string = np.arange(a, b + 1)\n",
    "    return np.tile(string, (m, 1))"
   ]
  },
  {
   "cell_type": "code",
   "execution_count": null,
   "id": "16ac33ea",
   "metadata": {},
   "outputs": [],
   "source": []
  }
 ],
 "metadata": {
  "kernelspec": {
   "display_name": "Python 3 (ipykernel)",
   "language": "python",
   "name": "python3"
  },
  "language_info": {
   "codemirror_mode": {
    "name": "ipython",
    "version": 3
   },
   "file_extension": ".py",
   "mimetype": "text/x-python",
   "name": "python",
   "nbconvert_exporter": "python",
   "pygments_lexer": "ipython3",
   "version": "3.9.12"
  }
 },
 "nbformat": 4,
 "nbformat_minor": 5
}
