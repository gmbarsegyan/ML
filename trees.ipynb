{
 "cells":[
  {
   "cell_type":"markdown",
   "source":[
    "# Интеллектуальный анализ данных – весна 2022\n",
    "\n",
    "# Домашнее задание 7: Деревья. Случайный лес\n",
    "\n",
    "Правила:\n",
    "\n",
    "- Домашнее задание оценивается в 10 баллов (+1 бонусный балл).\n",
    "\n",
    "\n",
    "- Можно использовать без доказательства любые результаты, встречавшиеся на лекциях или семинарах по курсу, если получение этих результатов не является вопросом задания.\n",
    "\n",
    "\n",
    "- Можно использовать любые свободные источники с обязательным указанием ссылки на них.\n",
    "\n",
    "\n",
    "- Плагиат не допускается. При обнаружении случаев списывания, 0 за работу выставляется всем участникам нарушения, даже если можно установить, кто у кого списал.\n",
    "\n",
    "<!-- ![](meme.jpg) -->\n",
    "<img src=\"meme.jpg\" alt=\"Drawing\" style=\"width: 700px;\"\/>"
   ],
   "attachments":{
    
   },
   "metadata":{
    "datalore":{
     "node_id":"SpLeZS7QeuWprWWzVrwRYd",
     "type":"MD",
     "hide_input_from_viewers":false,
     "hide_output_from_viewers":false,
     "report_properties":{
      "rowId":"sB0DIPJhTdGViToiYZGrud"
     }
    }
   }
  },
  {
   "cell_type":"markdown",
   "source":[
    "## Часть 1: Основы построения решающие дерева (1.5 балла)\n",
    "\n",
    "В этой части все расчёты необходимо реализовывать в виде запрограммированных формул, например, на `numpy`. **Нельзя использовать готовые реализации**. Например, если в задании требуется рассчитать энтропию, то требуется в каком-то виде релизовать расчёт по формуле, но нельзя использовать готовую реализацию `some_module.entropy()`."
   ],
   "attachments":{
    
   },
   "metadata":{
    "datalore":{
     "node_id":"1KxvoQb8R21VCRUC8NCaIt",
     "type":"MD",
     "hide_input_from_viewers":false,
     "hide_output_from_viewers":false,
     "report_properties":{
      "rowId":"aijF3T9i5gtbAY8jXBhhoB"
     }
    }
   }
  },
  {
   "cell_type":"code",
   "source":[
    "import numpy as np\n",
    "import pandas as pd\n",
    "import matplotlib.pyplot as plt"
   ],
   "execution_count":73,
   "outputs":[
    
   ],
   "metadata":{
    "datalore":{
     "node_id":"gdEkBQtlp4Q1cg7lWKXdxp",
     "type":"CODE",
     "hide_input_from_viewers":false,
     "hide_output_from_viewers":false,
     "report_properties":{
      "rowId":"n6PFjsD5HnmTgXny9NDyLk"
     }
    }
   }
  },
  {
   "cell_type":"markdown",
   "source":[
    "**Задание 1.1 (0.5 балла)** Пусть известно, что в вершину решающего дерева попали 10 объектов, 8 из которых имеют метку класса $k_1$, а 2 имеют метку класса $k_2$. Рассчитайте энтропию такого распределения классов (с натуральным логарифмом). Ответ округлите до двух знаков после запятой."
   ],
   "attachments":{
    
   },
   "metadata":{
    "datalore":{
     "node_id":"7GX7avYBo9m7Ll9fqzTjvw",
     "type":"MD",
     "hide_input_from_viewers":false,
     "hide_output_from_viewers":false,
     "report_properties":{
      "rowId":"7Z9MXU2jSjjV9crV4C42Kb"
     }
    }
   }
  },
  {
   "cell_type":"code",
   "source":[
    "# ᕕ(╭ರ╭ ͟ʖ╮•́)⊃¤=(————\n",
    "from math import *\n",
    "def impurity(k1, k2):\n",
    "    p1 = k1\/(k1+k2)\n",
    "    p2 = k2\/(k1+k2)\n",
    "    return round(-(p1*log(p1)+p2*log(p2)), 2)\n",
    "print(f'Энтропия такого класса сотавляет: {impurity(8, 2)}')"
   ],
   "execution_count":74,
   "outputs":[
    {
     "name":"stdout",
     "text":[
      "Энтропия такого класса сотавляет: 0.5\n"
     ],
     "output_type":"stream"
    }
   ],
   "metadata":{
    "datalore":{
     "node_id":"HVgLQLBlRur1i3W1n21SkD",
     "type":"CODE",
     "hide_input_from_viewers":false,
     "hide_output_from_viewers":false,
     "report_properties":{
      "rowId":"X1nATbF1Em6K4UdgOwlPHx"
     }
    }
   }
  },
  {
   "cell_type":"markdown",
   "source":[
    "**Задание 1.2 (0.5 балла)** Пусть дополнительно известно, что вершина из предыдущего задания не является листовой и возможно такое разбиение, что в левое поддерево попадут все объекты класса $k_1$, а в правое - класса $k_2$. Посчитайте критерий информативности:\n",
    "\n",
    "$$\n",
    "Q(R_m, j, t) = H(R_m) - \\frac{|R_\\ell|}{|R_m|}H(R_\\ell) - \\frac{|R_r|}{|R_m|}H(R_r),\n",
    "$$\n",
    "\n",
    "где $R_m$ - множество объектов в разбиваемой вершине, $j$ - номер признака, по которому происходит разбиение, $t$ - порог разбиения, $R_\\ell$ - множество объектов в левом поддереве, $R_r$ - множество объектов в правом поддереве.\n",
    "\n",
    "Теперь в качестве $H(R)$ будем использовать индекс Джини:\n",
    "\n",
    "$$\n",
    "H(R) = \\sum_{k=1}^J p_k(1-p_k),\n",
    "$$\n",
    "где $J$ – общее количество классов (в нашем случае, $J = 2$).\n",
    "\n",
    "Ответ округлите до двух знаков после запятой."
   ],
   "attachments":{
    
   },
   "metadata":{
    "datalore":{
     "node_id":"QKvAzHy2xuJxaXLpmee8LD",
     "type":"MD",
     "hide_input_from_viewers":false,
     "hide_output_from_viewers":false,
     "report_properties":{
      "rowId":"nHb6k6A9QZ1y6fFFm8KqKE"
     }
    }
   }
  },
  {
   "cell_type":"code",
   "source":[
    "# ᕕ(╭ರ╭ ͟ʖ╮•́)⊃¤=(————\n",
    "def Dzini(k1, k2):\n",
    "    p1 = k1\/(k1+k2)\n",
    "    p2 = k2\/(k1+k2)\n",
    "    return round(p1*(1-p1)+p2*(1-p2), 2)\n",
    "\n",
    "def Q(k1, k2, l1, l2, r1, r2):\n",
    "    return Dzini(k1, k2) - (l1+l2)\/(k1+k2)*Dzini(l1, l2) - (r1+r2)\/(k1+k2)*Dzini(r1, r2)\n",
    "\n",
    "\n",
    "print(f'Критерий информативности составляет: {Q(8,2,8,0,0,2)}')"
   ],
   "execution_count":75,
   "outputs":[
    {
     "name":"stdout",
     "text":[
      "Критерий информативности составляет: 0.32\n"
     ],
     "output_type":"stream"
    }
   ],
   "metadata":{
    "datalore":{
     "node_id":"YA2KI4ngOgCcfXkCkujOG3",
     "type":"CODE",
     "hide_input_from_viewers":false,
     "hide_output_from_viewers":false,
     "report_properties":{
      "rowId":"749gIeqS4rjEYBNiKJLXva"
     }
    }
   }
  },
  {
   "cell_type":"markdown",
   "source":[
    "**Задание 1.3 (0.5 балла)** Пусть при построении дерева образовалась листовая вершина с 10 объектами, значения целевой переменной для которых следующие: [1, 10, 5, 18, 100, 30, 50, 61, 84, 47] (решается задача регрессии). Чему будут равны предсказания модели для этих объектов?"
   ],
   "attachments":{
    
   },
   "metadata":{
    "datalore":{
     "node_id":"OhBiNIEw87EjKVS1QsQeph",
     "type":"MD",
     "hide_input_from_viewers":false,
     "hide_output_from_viewers":false,
     "report_properties":{
      "rowId":"VPY6xofZl8zxj5Z0epcn92"
     }
    }
   }
  },
  {
   "cell_type":"code",
   "source":[
    "# ᕕ(╭ರ╭ ͟ʖ╮•́)⊃¤=(————\n",
    "def lr_pred(value_list):\n",
    "    return np.mean(value_list)\n",
    "print(f'Предсказание модели для этих объектов будет равно: {lr_pred([1, 10, 5, 18, 100, 30, 50, 61, 84, 47])}')"
   ],
   "execution_count":76,
   "outputs":[
    {
     "name":"stdout",
     "text":[
      "Предсказание модели для этих объектов будет равно: 40.6\n"
     ],
     "output_type":"stream"
    }
   ],
   "metadata":{
    "datalore":{
     "node_id":"mUE2PhOILFLGKmtdHZ7RH1",
     "type":"CODE",
     "hide_input_from_viewers":false,
     "hide_output_from_viewers":false,
     "report_properties":{
      "rowId":"hgL8KbAe6AmxtoQnksDs68"
     }
    }
   }
  },
  {
   "cell_type":"markdown",
   "source":[
    "## Часть 2: Решающие деревья (4.5 балла)\n",
    "\n",
    "В этой части мы напишем и протестируем собственную реализацию решающего дерева."
   ],
   "attachments":{
    
   },
   "metadata":{
    "datalore":{
     "node_id":"rLpUcYC8opdrzugsdiV6qi",
     "type":"MD",
     "hide_input_from_viewers":false,
     "hide_output_from_viewers":false,
     "report_properties":{
      "rowId":"cEVGEXBvJISk8Q4JbW5KtA"
     }
    }
   }
  },
  {
   "cell_type":"code",
   "source":[
    "from collections import Counter\n",
    "from typing import Dict, List, Tuple, Union"
   ],
   "execution_count":77,
   "outputs":[
    
   ],
   "metadata":{
    "datalore":{
     "node_id":"o8RjsCB0IdjH1AzeUjroRI",
     "type":"CODE",
     "hide_input_from_viewers":false,
     "hide_output_from_viewers":false,
     "report_properties":{
      "rowId":"qF8Z4IL7JFxzlJuuevvlEa"
     }
    }
   }
  },
  {
   "cell_type":"markdown",
   "source":[
    "**Задание 2.1 (1.5 балла)** Реализуйте функцию `find_best_split()`, которая должна находить оптимальное разбиение подмножества обучающей выборки в соответствии с информационным критерием из **Задания 1.2**. В качестве меры хаотичности $H(R)$ для задачи регрессии испольуйте дисперсию подвыборки, а для задачи классификации – критерий Джини (определён в том же задании).\n",
    "\n",
    "Для категориальных признаков применяется наивный алгоритм разбиения: мы пытаемся найти одно значение, разбиение по которому сильнее всего увеличит критерий информативности. Иными словами, объекты с конкретным значением признака отправляем в левое поддерево, остальные - в правое. Обратите внимание, что это далеко не оптимальные способ учёта категориальных признаков. Например, можно было бы на каждое значение категориального признака создавать отдельное поддерево или использовать более сложные подходы. Подробнее об этом можно прочитать в конспектах [лекций](https:\/\/github.com\/esokolov\/ml-course-hse\/blob\/master\/2019-fall\/lecture-notes\/lecture07-trees.pdf) по машинному обучению на ПМИ (раздел «Учёт категориальных признаков»).\n",
    "\n",
    "В качестве подсказок реализации можете пользоваться кодом из бонусной части семинара по решающим деревьям.\n",
    "\n",
    "**Бонус:** Разрешается делать цикл для перебора порогов, но возможна имплементация без него. За имплементацию без цикла – **бонус 1 балл**."
   ],
   "attachments":{
    
   },
   "metadata":{
    "datalore":{
     "node_id":"tR2CH8giCHZfw3VUBMMpS1",
     "type":"MD",
     "hide_input_from_viewers":false,
     "hide_output_from_viewers":false,
     "report_properties":{
      "rowId":"Fso8g7SFSVlCWXeuDyy0C4"
     }
    }
   }
  },
  {
   "cell_type":"code",
   "source":[
    "def find_best_split(\n",
    "    feature_vector: Union[np.ndarray, pd.DataFrame], \n",
    "    target_vector: Union[np.ndarray, pd.Series],\n",
    "    task: str = \"classification\",\n",
    "    feature_type: str = \"real\"\n",
    ") -> Tuple[np.ndarray, np.ndarray, float, float]:\n",
    "    \"\"\"\n",
    "    Указания:\n",
    "    * Пороги, приводящие к попаданию в одно из поддеревьев пустого множества объектов, не рассматриваются.\n",
    "    * В качестве порогов, нужно брать среднее двух сосдених (при сортировке) значений признака\n",
    "    * Поведение функции в случае константного признака может быть любым.\n",
    "    * При одинаковых приростах Джини или дисперсии нужно выбирать минимальный сплит.\n",
    "    * За наличие в функции циклов балл будет снижен. Векторизуйте! :)\n",
    "\n",
    "    :param feature_vector: вещественнозначный вектор значений признака\n",
    "    :param target_vector: вектор классов объектов,  len(feature_vector) == len(target_vector)\n",
    "    :param task: либо classification, либо regression\n",
    "    :param feature_type: либо real, либо categorical\n",
    "    \n",
    "    :return thresholds: отсортированный по возрастанию вектор со всеми возможными порогами, по которым объекты можно\n",
    "     разделить на две различные подвыборки, или поддерева\n",
    "    :return ginis: вектор со значениями критерия Джини для каждого из порогов в thresholds len(ginis) == len(thresholds)\n",
    "    :return threshold_best: оптимальный порог (число)\n",
    "    :return gini_best: оптимальное значение критерия Джини (число)\n",
    "    \"\"\"\n",
    "    # ᕕ(╭ರ╭ ʖ╮•́)⊃¤=(————-\n",
    "    # Создаем датафрейм значения признака -> метки класса (значения целевой переменной)\n",
    "    thresholds_all = []\n",
    "    thresholds = []\n",
    "    ginis = []\n",
    "    df = pd.DataFrame(np.vstack((feature_vector, target_vector)).T, columns=['X', 'y'])\n",
    "    # Сортируем по возрастанию, чтобы потом перебирать пороги и смотреть те, при которых энтропия минимальна\n",
    "    df.sort_values(by=[\"X\"], inplace=True)\n",
    "    df.reset_index(drop=True)\n",
    "    # Создаем вектор со значениями порогов как среднее между соседними признаками\n",
    "    for num_t in range(df.shape[0]-1):\n",
    "        t = (df[\"X\"].iloc[num_t] + df[\"X\"].iloc[num_t+1])\/2\n",
    "        if t not in thresholds_all:\n",
    "            thresholds_all.append(t)\n",
    "    for t in range(len(thresholds_all)):\n",
    "        left = target_vector[df[\"X\"] < thresholds_all[t]]\n",
    "        right = target_vector[df[\"X\"] >= thresholds_all[t]]\n",
    "        if (len(left) > 0) & (len(right) >0):\n",
    "            if task == \"regression\":\n",
    "                H_r = np.var(right)\n",
    "                H_l = np.var(left)\n",
    "            else:\n",
    "                H_r = right[right==0].shape[0]\/len(right)*(1-right[right==0].shape[0]\/len(right)) + right[right==1].shape[0]\/len(right)*(1-right[right==1].shape[0]\/len(right))\n",
    "                H_l = left[left==0].shape[0]\/len(left)*(1-left[left==0].shape[0]\/len(left)) + left[left==1].shape[0]\/len(left)*(1-left[left==1].shape[0]\/len(left))\n",
    "            gini_on_first_level = len(left)\/len(target_vector)*H_l + len(right)\/len(target_vector)*H_r\n",
    "            ginis.append(gini_on_first_level)\n",
    "            thresholds.append(thresholds_all[t])\n",
    "    gini_best = min(ginis)\n",
    "    threshold_best = thresholds[ginis.index(gini_best)]\n",
    "    return np.array(thresholds), np.array(ginis), float(threshold_best), float(gini_best)"
   ],
   "execution_count":78,
   "outputs":[
    
   ],
   "metadata":{
    "datalore":{
     "node_id":"4xkWshVJQPa3ZD31IZMizG",
     "type":"CODE",
     "hide_input_from_viewers":false,
     "hide_output_from_viewers":false,
     "report_properties":{
      "rowId":"uFa29GbeqyBzeo5zlOG39I"
     }
    }
   }
  },
  {
   "cell_type":"markdown",
   "source":[
    "Эту функцию можно протестировать на датасете `California`."
   ],
   "attachments":{
    
   },
   "metadata":{
    "datalore":{
     "node_id":"nHqnaBf8yh55i5ZTyjPYpR",
     "type":"MD",
     "hide_input_from_viewers":false,
     "hide_output_from_viewers":false,
     "report_properties":{
      "rowId":"x8DJhsNyhhuvXFde67EIwW"
     }
    }
   }
  },
  {
   "cell_type":"code",
   "source":[
    "from sklearn.datasets import fetch_california_housing"
   ],
   "execution_count":79,
   "outputs":[
    
   ],
   "metadata":{
    "datalore":{
     "node_id":"JLEN1CZZyLYaXxNuOZQ27o",
     "type":"CODE",
     "hide_input_from_viewers":false,
     "hide_output_from_viewers":false,
     "report_properties":{
      "rowId":"7b0xRbjlo9ySIoKf4y4Vb1"
     }
    }
   }
  },
  {
   "cell_type":"code",
   "source":[
    "data = fetch_california_housing()\n",
    "X = pd.DataFrame(data=data[\"data\"], columns=data[\"feature_names\"])\n",
    "y = data[\"target\"]\n",
    "X.head()"
   ],
   "execution_count":80,
   "outputs":[
    {
     "data":{
      "text\/html":[
       "<div>\n",
       "<style scoped>\n",
       "    .dataframe tbody tr th:only-of-type {\n",
       "        vertical-align: middle;\n",
       "    }\n",
       "\n",
       "    .dataframe tbody tr th {\n",
       "        vertical-align: top;\n",
       "    }\n",
       "\n",
       "    .dataframe thead th {\n",
       "        text-align: right;\n",
       "    }\n",
       "<\/style>\n",
       "<table border=\"1\" class=\"dataframe\">\n",
       "  <thead>\n",
       "    <tr style=\"text-align: right;\">\n",
       "      <th><\/th>\n",
       "      <th>MedInc<\/th>\n",
       "      <th>HouseAge<\/th>\n",
       "      <th>AveRooms<\/th>\n",
       "      <th>AveBedrms<\/th>\n",
       "      <th>Population<\/th>\n",
       "      <th>AveOccup<\/th>\n",
       "      <th>Latitude<\/th>\n",
       "      <th>Longitude<\/th>\n",
       "    <\/tr>\n",
       "  <\/thead>\n",
       "  <tbody>\n",
       "    <tr>\n",
       "      <th>0<\/th>\n",
       "      <td>8.3252<\/td>\n",
       "      <td>41.0<\/td>\n",
       "      <td>6.984127<\/td>\n",
       "      <td>1.023810<\/td>\n",
       "      <td>322.0<\/td>\n",
       "      <td>2.555556<\/td>\n",
       "      <td>37.88<\/td>\n",
       "      <td>-122.23<\/td>\n",
       "    <\/tr>\n",
       "    <tr>\n",
       "      <th>1<\/th>\n",
       "      <td>8.3014<\/td>\n",
       "      <td>21.0<\/td>\n",
       "      <td>6.238137<\/td>\n",
       "      <td>0.971880<\/td>\n",
       "      <td>2401.0<\/td>\n",
       "      <td>2.109842<\/td>\n",
       "      <td>37.86<\/td>\n",
       "      <td>-122.22<\/td>\n",
       "    <\/tr>\n",
       "    <tr>\n",
       "      <th>2<\/th>\n",
       "      <td>7.2574<\/td>\n",
       "      <td>52.0<\/td>\n",
       "      <td>8.288136<\/td>\n",
       "      <td>1.073446<\/td>\n",
       "      <td>496.0<\/td>\n",
       "      <td>2.802260<\/td>\n",
       "      <td>37.85<\/td>\n",
       "      <td>-122.24<\/td>\n",
       "    <\/tr>\n",
       "    <tr>\n",
       "      <th>3<\/th>\n",
       "      <td>5.6431<\/td>\n",
       "      <td>52.0<\/td>\n",
       "      <td>5.817352<\/td>\n",
       "      <td>1.073059<\/td>\n",
       "      <td>558.0<\/td>\n",
       "      <td>2.547945<\/td>\n",
       "      <td>37.85<\/td>\n",
       "      <td>-122.25<\/td>\n",
       "    <\/tr>\n",
       "    <tr>\n",
       "      <th>4<\/th>\n",
       "      <td>3.8462<\/td>\n",
       "      <td>52.0<\/td>\n",
       "      <td>6.281853<\/td>\n",
       "      <td>1.081081<\/td>\n",
       "      <td>565.0<\/td>\n",
       "      <td>2.181467<\/td>\n",
       "      <td>37.85<\/td>\n",
       "      <td>-122.25<\/td>\n",
       "    <\/tr>\n",
       "  <\/tbody>\n",
       "<\/table>\n",
       "<\/div>"
      ]
     },
     "metadata":{
      
     },
     "output_type":"display_data"
    }
   ],
   "metadata":{
    "datalore":{
     "node_id":"YhP6Ihc4FMY8mNAWIfPiLi",
     "type":"CODE",
     "hide_input_from_viewers":false,
     "hide_output_from_viewers":false,
     "report_properties":{
      "rowId":"dXI4uytGQoSUKcJtsZknYh"
     }
    }
   }
  },
  {
   "cell_type":"code",
   "source":[
    "y"
   ],
   "execution_count":81,
   "outputs":[
    {
     "data":{
      "text\/html":[
       "<pre>array([4.526, 3.585, 3.521, ..., 0.923, 0.847, 0.894])<\/pre>"
      ]
     },
     "metadata":{
      
     },
     "output_type":"display_data"
    }
   ],
   "metadata":{
    "datalore":{
     "node_id":"zzkvNW4SOhuRbrjmGvEpHE",
     "type":"CODE",
     "hide_input_from_viewers":false,
     "hide_output_from_viewers":false,
     "report_properties":{
      "rowId":"ChQMQcs6rvhIYxYr5wMQs3"
     }
    }
   }
  },
  {
   "cell_type":"markdown",
   "source":[
    "Выведите график зависимости значения критерия ошибки от порогового значения при разбиении вершины по признаку `MedInc`."
   ],
   "attachments":{
    
   },
   "metadata":{
    "datalore":{
     "node_id":"TbbFC8Eg7Jfyszmp38sMbV",
     "type":"MD",
     "hide_input_from_viewers":false,
     "hide_output_from_viewers":false,
     "report_properties":{
      "rowId":"chXhsbhiTZ318NHsB8UzVl"
     }
    }
   }
  },
  {
   "cell_type":"code",
   "source":[
    "thresholds_MedInc, ginis_MedInc, threshold_best_Medinc, gini_best_MedInc = find_best_split(X[\"MedInc\"], y, task=\"regression\", feature_type=\"real\")\n",
    "plt.figure(figsize=(10, 5))\n",
    "plt.plot(thresholds_MedInc, ginis_MedInc, label = \"MedInc\")\n",
    "plt.xlabel(\"Значения порога\", fontsize = 13)\n",
    "plt.ylabel(\"Значения критерия Джини\", fontsize = 13)\n",
    "plt.title(\"Разбиение вершины по признаку MedInc\", fontsize = 13)\n",
    "plt.legend(loc = 1)\n",
    "plt.show()"
   ],
   "execution_count":82,
   "outputs":[
    {
     "data":{
      "image\/png":"[encoded data removed]"
     },
     "metadata":{
      "image\/png":{
       
      }
     },
     "output_type":"display_data"
    }
   ],
   "metadata":{
    "datalore":{
     "node_id":"2DCucCDLwQgxwDEduHPVJo",
     "type":"CODE",
     "hide_input_from_viewers":true,
     "hide_output_from_viewers":true
    }
   }
  },
  {
   "cell_type":"markdown",
   "source":[
    "Найдите лучший, с вашей точки зрения, предикат первой вершины решающего дерева."
   ],
   "attachments":{
    
   },
   "metadata":{
    "datalore":{
     "node_id":"Fy6FBmwz6jic4gVib5wYzw",
     "type":"MD",
     "hide_input_from_viewers":false,
     "hide_output_from_viewers":false,
     "report_properties":{
      "rowId":"AcMju7dJkg9SuybXVwl91Z"
     }
    }
   }
  },
  {
   "cell_type":"code",
   "source":[
    "# ᕕ(╭ರ╭ ͟ʖ╮•́)⊃¤=(————\n",
    "threshold_best_Medinc"
   ],
   "execution_count":83,
   "outputs":[
    {
     "data":{
      "text\/plain":[
       "2.19745"
      ]
     },
     "metadata":{
      
     },
     "output_type":"display_data"
    }
   ],
   "metadata":{
    "datalore":{
     "node_id":"4j3q7sRD4tx6XqQNYbhY3x",
     "type":"CODE",
     "hide_input_from_viewers":false,
     "hide_output_from_viewers":false,
     "report_properties":{
      "rowId":"FIltOtmz6rzbQhmDk8aGI7"
     }
    }
   }
  },
  {
   "cell_type":"markdown",
   "source":[
    "Видим, что оптимальное значение ошибки соответствует значению порога **2.19745**. Там достигается минимальное значение критерия Джини, а значит при таком разбиении будет **наибольший информационный прирост**."
   ],
   "attachments":{
    
   },
   "metadata":{
    "datalore":{
     "node_id":"X3jm2upGONqrfwux8i7K8B",
     "type":"MD",
     "hide_input_from_viewers":true,
     "hide_output_from_viewers":true
    }
   }
  },
  {
   "cell_type":"markdown",
   "source":[
    "**Задание 2.2 (1 балл)** Разберитесь с написанным кодом решающего дерева, заполните пропуски в коде и реализуйте недостающий метод `_predict_node()`.\n",
    "\n",
    "Построение дерева осуществляется согласно базовому жадному алгоритму, предложенному в лекции в разделе «Построение дерева».\n",
    "- **Выбор лучшего разбиения** необходимо производить по критерию Джини.\n",
    "- **Критерий останова:** все объекты в листе относятся к одному классу или ни по одному признаку нельзя разбить выборку.\n",
    "- **Ответ в листе:** наиболее часто встречающийся класс в листе.\n",
    "\n",
    "В задаче также предлагается получить два бонуса, по баллу на каждый!\n",
    "\n",
    "- **Реализуйте способ обрабатывать пропуски в даннх и реализуйте его, пояснив свои действия.**\n",
    "- **Реализуйте метод оценки важности признаков.**"
   ],
   "attachments":{
    
   },
   "metadata":{
    "datalore":{
     "node_id":"QzLdmgEABFpYDQVwzqwNDZ",
     "type":"MD",
     "hide_input_from_viewers":false,
     "hide_output_from_viewers":false,
     "report_properties":{
      "rowId":"BxwpD7j7BCOJ3CLpUYl63B"
     }
    }
   }
  },
  {
   "cell_type":"code",
   "source":[
    "class DecisionTree:\n",
    "    \n",
    "    def __init__(\n",
    "        self, \n",
    "        feature_types: Union[List[str], np.ndarray], \n",
    "        max_depth: int = None, \n",
    "        min_samples_split: int = None, \n",
    "        min_samples_leaf: int = None,\n",
    "        task: str = \"classification\"\n",
    "    ) -> None:\n",
    "        \n",
    "        if np.any(list(map(lambda x: x != \"real\" and x != \"categorical\", feature_types))):\n",
    "            raise ValueError(\"There is unknown feature type\")\n",
    "\n",
    "        # В этой переменной будем хранить узлы решающего дерева. Каждая вершина хранит в себе идентификатор того,\n",
    "        # является ли она листовой. Листовые вершины хранят значение класса для предсказания, нелистовые - правого и\n",
    "        # левого детей (поддеревья для продолжения процедуры предсказания)\n",
    "        self._tree = {}\n",
    "        \n",
    "        # типы признаков (категориальные или числовые)\n",
    "        self._feature_types = feature_types\n",
    "        \n",
    "        # гиперпараметры дерева\n",
    "        self._max_depth = max_depth\n",
    "        self._min_samples_split = min_samples_split\n",
    "        self._min_samples_leaf = min_samples_leaf\n",
    "        self.task = task\n",
    "        \n",
    "        # Переменная, если вы решите делать бонус\n",
    "        self._feature_importances = {}\n",
    "        \n",
    "\n",
    "    def _fit_node(\n",
    "        self, \n",
    "        sub_X: np.ndarray, \n",
    "        sub_y: np.ndarray, \n",
    "        node: dict\n",
    "    ) -> None:\n",
    "        \n",
    "        # критерий останова\n",
    "        if np.all(sub_y == sub_y[0]): # Все объекты одного класса\n",
    "            node[\"type\"] = \"terminal\"\n",
    "            node[\"class\"] = sub_y[0] # У всех объектов в разбиении один и тот же класс, в разбиении создаем ключ со значением этого класса\n",
    "            return\n",
    "\n",
    "        feature_best, threshold_best, gini_best, split = None, None, None, None\n",
    "        for feature in range(sub_X.shape[1]): # Для каждого признака\n",
    "            feature_type = self._feature_types[feature]\n",
    "            categories_map = {}\n",
    "\n",
    "            # подготавливаем признак для поиска оптимального порога\n",
    "            if feature_type == \"real\":\n",
    "                feature_vector = sub_X[:, feature] # Значения этого признака для всех объектов\n",
    "            elif feature_type == \"categorical\":\n",
    "                # здесь могла быть реализация более сложного подхода к обработке категориального признака\n",
    "                feature_vector = sub_X[:, feature]\n",
    "\n",
    "            # ищем оптимальный порог\n",
    "            _, _, threshold, gini = find_best_split(feature_vector, sub_y, self.task, feature_type) # Считается коэф Джини для каждого порога и выбирается наилучший порог и соответствующий ему критерий Джини\n",
    "            \n",
    "            # Ищем оптимальный признак и лучшее значение критерия Джини\n",
    "            if gini_best is None or gini < gini_best: # Здесь знак меньше, потому что чем меньше неопределенность, тем лучше \n",
    "                feature_best = feature\n",
    "                gini_best = gini\n",
    "\n",
    "                # split - маска на объекты, которые должны попасть в левое поддерево\n",
    "                if feature_type == \"real\":\n",
    "                    threshold_best = threshold\n",
    "                    split = np.array(sub_X[:, feature] < threshold) # Добавил код\n",
    "                elif feature_type == \"categorical\":\n",
    "                    # в данной реализации это просто значение категории\n",
    "                    threshold_best = threshold\n",
    "                    split = np.array(sub_X[:, feature] == threshold) # Добавил код\n",
    "                else:\n",
    "                    raise ValueError\n",
    "\n",
    "        # записываем полученные сплиты в атрибуты класса\n",
    "        if feature_best is None:\n",
    "            node[\"type\"] = \"terminal\"\n",
    "            node[\"class\"] = Counter(sub_y).most_common(1)[0][0]\n",
    "            return\n",
    "\n",
    "        node[\"type\"] = \"nonterminal\"\n",
    "\n",
    "        node[\"feature_split\"] = feature_best\n",
    "        if self._feature_types[feature_best] == \"real\":\n",
    "            node[\"threshold\"] = threshold_best\n",
    "        elif self._feature_types[feature_best] == \"categorical\":\n",
    "            node[\"category_split\"] = threshold_best\n",
    "        else:\n",
    "            raise ValueError\n",
    "            \n",
    "        node[\"left_child\"], node[\"right_child\"] = {}, {}\n",
    "        self._fit_node(sub_X[split], sub_y[split], node[\"left_child\"]) # Рекурсивно вызывается fit_node, разделяя левых детей до тех пор пока не выполнится критерий останова, после чего рекурсия разворачивается и идет вверх до места, где вызывается фит правой подвыборки, которая спустившись на один вправо снова идет рекурсивно влево, пока не выполнится критерий останова, так продолжается, пока дерево не отстроится\n",
    "        self._fit_node(sub_X[np.logical_not(split)], sub_y[np.logical_not(split)], node[\"right_child\"])\n",
    "\n",
    "    def _predict_node(self, x: np.ndarray, node: dict) -> int:\n",
    "        \"\"\"\n",
    "        Предсказание начинается с корневой вершины дерева и рекурсивно идёт в левое или правое поддерево в зависимости от значения\n",
    "        предиката на объекте. Листовая вершина возвращает предсказание.\n",
    "        :param x: np.array, элемент выборки\n",
    "        :param node: dict, вершина дерева\n",
    "        \"\"\"\n",
    "        #\n",
    "    def fit(self, X: np.ndarray, y: np.ndarray) -> None:\n",
    "        self._fit_node(X, y, self._tree)\n",
    "\n",
    "    def predict(self, X: np.ndarray) -> np.ndarray:\n",
    "        predicted = []\n",
    "        for x in X:\n",
    "            predicted.append(self._predict_node(x, self._tree))\n",
    "            \n",
    "        return np.array(predicted)"
   ],
   "execution_count":84,
   "outputs":[
    
   ],
   "metadata":{
    "datalore":{
     "node_id":"KTGFcsZ1kG0DZHkZfSFebn",
     "type":"CODE",
     "hide_input_from_viewers":false,
     "hide_output_from_viewers":false,
     "report_properties":{
      "rowId":"ryCvr2lvPRHUkkn72We5Cp"
     }
    }
   }
  },
  {
   "cell_type":"markdown",
   "source":[
    "**Задание 2.3 (1 балл)** Загрузите таблицу `students.csv` (это немного преобразованный датасет [User Knowledge](https:\/\/archive.ics.uci.edu\/ml\/datasets\/User+Knowledge+Modeling)). В ней признаки объекта записаны в первых пяти столбцах, а в последнем записана целевая переменная (класс: 0 или 1). Постройте на одном изображении пять кривых \"порог — значение критерия Джини\" для всех пяти признаков. Отдельно визуализируйте диаграммы рассеяния \"значение признака — класс\" для всех пяти признаков."
   ],
   "attachments":{
    
   },
   "metadata":{
    "datalore":{
     "node_id":"S3oZfpRsLUTA3zm01bz7u3",
     "type":"MD",
     "hide_input_from_viewers":false,
     "hide_output_from_viewers":false,
     "report_properties":{
      "rowId":"TVbszYPclDrrhvvMHCJv8Q"
     }
    }
   }
  },
  {
   "cell_type":"code",
   "source":[
    "# ᕕ(╭ರ╭ ͟ʖ╮•́)⊃¤=(————\n",
    "data = pd.read_csv('students.csv')\n",
    "print(f\"Dataset shape: {data.shape}\")\n",
    "data.head()"
   ],
   "execution_count":85,
   "outputs":[
    {
     "name":"stdout",
     "text":[
      "Dataset shape: (258, 7)\n"
     ],
     "output_type":"stream"
    },
    {
     "data":{
      "text\/html":[
       "<div>\n",
       "<style scoped>\n",
       "    .dataframe tbody tr th:only-of-type {\n",
       "        vertical-align: middle;\n",
       "    }\n",
       "\n",
       "    .dataframe tbody tr th {\n",
       "        vertical-align: top;\n",
       "    }\n",
       "\n",
       "    .dataframe thead th {\n",
       "        text-align: right;\n",
       "    }\n",
       "<\/style>\n",
       "<table border=\"1\" class=\"dataframe\">\n",
       "  <thead>\n",
       "    <tr style=\"text-align: right;\">\n",
       "      <th><\/th>\n",
       "      <th>Unnamed: 0<\/th>\n",
       "      <th>STG<\/th>\n",
       "      <th>SCG<\/th>\n",
       "      <th>STR<\/th>\n",
       "      <th>LPR<\/th>\n",
       "      <th>PEG<\/th>\n",
       "      <th>UNS<\/th>\n",
       "    <\/tr>\n",
       "  <\/thead>\n",
       "  <tbody>\n",
       "    <tr>\n",
       "      <th>0<\/th>\n",
       "      <td>0<\/td>\n",
       "      <td>0.00<\/td>\n",
       "      <td>0.00<\/td>\n",
       "      <td>0.00<\/td>\n",
       "      <td>0.00<\/td>\n",
       "      <td>0.00<\/td>\n",
       "      <td>0<\/td>\n",
       "    <\/tr>\n",
       "    <tr>\n",
       "      <th>1<\/th>\n",
       "      <td>1<\/td>\n",
       "      <td>0.08<\/td>\n",
       "      <td>0.08<\/td>\n",
       "      <td>0.10<\/td>\n",
       "      <td>0.24<\/td>\n",
       "      <td>0.90<\/td>\n",
       "      <td>1<\/td>\n",
       "    <\/tr>\n",
       "    <tr>\n",
       "      <th>2<\/th>\n",
       "      <td>2<\/td>\n",
       "      <td>0.06<\/td>\n",
       "      <td>0.06<\/td>\n",
       "      <td>0.05<\/td>\n",
       "      <td>0.25<\/td>\n",
       "      <td>0.33<\/td>\n",
       "      <td>0<\/td>\n",
       "    <\/tr>\n",
       "    <tr>\n",
       "      <th>3<\/th>\n",
       "      <td>3<\/td>\n",
       "      <td>0.10<\/td>\n",
       "      <td>0.10<\/td>\n",
       "      <td>0.15<\/td>\n",
       "      <td>0.65<\/td>\n",
       "      <td>0.30<\/td>\n",
       "      <td>1<\/td>\n",
       "    <\/tr>\n",
       "    <tr>\n",
       "      <th>4<\/th>\n",
       "      <td>4<\/td>\n",
       "      <td>0.08<\/td>\n",
       "      <td>0.08<\/td>\n",
       "      <td>0.08<\/td>\n",
       "      <td>0.98<\/td>\n",
       "      <td>0.24<\/td>\n",
       "      <td>0<\/td>\n",
       "    <\/tr>\n",
       "  <\/tbody>\n",
       "<\/table>\n",
       "<\/div>"
      ]
     },
     "metadata":{
      
     },
     "output_type":"display_data"
    }
   ],
   "metadata":{
    "datalore":{
     "node_id":"vo0yKqd2etCRIRBjYIf0xv",
     "type":"CODE",
     "hide_input_from_viewers":false,
     "hide_output_from_viewers":false,
     "report_properties":{
      "rowId":"k4q9wxKYzKqWse1IwsuK6d"
     }
    }
   }
  },
  {
   "cell_type":"code",
   "source":[
    "feature_names = [\"STG\", \"SCG\", \"STR\", \"LPR\", \"PEG\"]\n",
    "X = pd.DataFrame(data=data, columns=feature_names)\n",
    "y = data[\"UNS\"]\n",
    "X.head()"
   ],
   "execution_count":86,
   "outputs":[
    {
     "data":{
      "text\/html":[
       "<div>\n",
       "<style scoped>\n",
       "    .dataframe tbody tr th:only-of-type {\n",
       "        vertical-align: middle;\n",
       "    }\n",
       "\n",
       "    .dataframe tbody tr th {\n",
       "        vertical-align: top;\n",
       "    }\n",
       "\n",
       "    .dataframe thead th {\n",
       "        text-align: right;\n",
       "    }\n",
       "<\/style>\n",
       "<table border=\"1\" class=\"dataframe\">\n",
       "  <thead>\n",
       "    <tr style=\"text-align: right;\">\n",
       "      <th><\/th>\n",
       "      <th>STG<\/th>\n",
       "      <th>SCG<\/th>\n",
       "      <th>STR<\/th>\n",
       "      <th>LPR<\/th>\n",
       "      <th>PEG<\/th>\n",
       "    <\/tr>\n",
       "  <\/thead>\n",
       "  <tbody>\n",
       "    <tr>\n",
       "      <th>0<\/th>\n",
       "      <td>0.00<\/td>\n",
       "      <td>0.00<\/td>\n",
       "      <td>0.00<\/td>\n",
       "      <td>0.00<\/td>\n",
       "      <td>0.00<\/td>\n",
       "    <\/tr>\n",
       "    <tr>\n",
       "      <th>1<\/th>\n",
       "      <td>0.08<\/td>\n",
       "      <td>0.08<\/td>\n",
       "      <td>0.10<\/td>\n",
       "      <td>0.24<\/td>\n",
       "      <td>0.90<\/td>\n",
       "    <\/tr>\n",
       "    <tr>\n",
       "      <th>2<\/th>\n",
       "      <td>0.06<\/td>\n",
       "      <td>0.06<\/td>\n",
       "      <td>0.05<\/td>\n",
       "      <td>0.25<\/td>\n",
       "      <td>0.33<\/td>\n",
       "    <\/tr>\n",
       "    <tr>\n",
       "      <th>3<\/th>\n",
       "      <td>0.10<\/td>\n",
       "      <td>0.10<\/td>\n",
       "      <td>0.15<\/td>\n",
       "      <td>0.65<\/td>\n",
       "      <td>0.30<\/td>\n",
       "    <\/tr>\n",
       "    <tr>\n",
       "      <th>4<\/th>\n",
       "      <td>0.08<\/td>\n",
       "      <td>0.08<\/td>\n",
       "      <td>0.08<\/td>\n",
       "      <td>0.98<\/td>\n",
       "      <td>0.24<\/td>\n",
       "    <\/tr>\n",
       "  <\/tbody>\n",
       "<\/table>\n",
       "<\/div>"
      ]
     },
     "metadata":{
      
     },
     "output_type":"display_data"
    }
   ],
   "metadata":{
    "datalore":{
     "node_id":"n9T7F3ekRZIagG2UYV3zqD",
     "type":"CODE",
     "hide_input_from_viewers":true,
     "hide_output_from_viewers":true
    }
   }
  },
  {
   "cell_type":"code",
   "source":[
    "plt.figure(figsize=(10, 5))\n",
    "plt.xlabel(\"Значения порога\", fontsize = 13)\n",
    "plt.ylabel(\"Значения критерия Джини\", fontsize = 13)\n",
    "plt.title(\"Зависимость порог-значение критерия Джини\", fontsize = 13)\n",
    "plt.grid()\n",
    "for feature in feature_names:\n",
    "    thresholds, ginis, threshold_best, gini_best = find_best_split(X[feature], y, task=\"classification\")\n",
    "    plt.plot(thresholds, ginis, label=feature)\n",
    "plt.legend(loc=4)"
   ],
   "execution_count":87,
   "outputs":[
    {
     "data":{
      "text\/plain":[
       "<matplotlib.legend.Legend at 0x7f9975380280>"
      ]
     },
     "metadata":{
      
     },
     "output_type":"display_data"
    },
    {
     "data":{
      "image\/png":"[encoded data removed]"
     },
     "metadata":{
      "image\/png":{
       
      }
     },
     "output_type":"display_data"
    }
   ],
   "metadata":{
    "datalore":{
     "node_id":"muxPWJ3VqsliM0zMBfb7xS",
     "type":"CODE",
     "hide_input_from_viewers":true,
     "hide_output_from_viewers":true
    }
   }
  },
  {
   "cell_type":"markdown",
   "source":[
    "Исходя из кривых значений критерия Джини, по какому признаку нужно производить деление выборки на два поддерева? Согласуется ли этот результат с визуальной оценкой диаграмм рассеяиния? Как бы охарактеризовали вид кривой для \"хороших\" признаков, по которым выборка делится почти идеально? Чем отличаются кривые для признаков, по которым деление практически невозможно?"
   ],
   "attachments":{
    
   },
   "metadata":{
    "datalore":{
     "node_id":"uIYr1nUN0s46hr4DG4sTu7",
     "type":"MD",
     "hide_input_from_viewers":false,
     "hide_output_from_viewers":false,
     "report_properties":{
      "rowId":"6mBvgkjoYdV77WRkTgBON0"
     }
    }
   }
  },
  {
   "cell_type":"code",
   "source":[
    "# ᕕ(╭ರ╭ ͟ʖ╮•́)⊃¤=(————\n",
    "for feature in feature_names:\n",
    "    plt.scatter(X[feature], y)\n",
    "    plt.xlabel(feature)\n",
    "    plt.ylabel('Метка класса')\n",
    "    plt.title(f'График распределения выборки по классам по признаку {feature.strip()}')\n",
    "    plt.grid()\n",
    "    plt.show()"
   ],
   "execution_count":88,
   "outputs":[
    {
     "data":{
      "image\/png":"[encoded data removed]"
     },
     "metadata":{
      "image\/png":{
       
      }
     },
     "output_type":"display_data"
    },
    {
     "data":{
      "image\/png":"[encoded data removed]"
     },
     "metadata":{
      "image\/png":{
       
      }
     },
     "output_type":"display_data"
    },
    {
     "data":{
      "image\/png":"[encoded data removed]"
     },
     "metadata":{
      "image\/png":{
       
      }
     },
     "output_type":"display_data"
    },
    {
     "data":{
      "image\/png":"[encoded data removed]"
     },
     "metadata":{
      "image\/png":{
       
      }
     },
     "output_type":"display_data"
    },
    {
     "data":{
      "image\/png":"[encoded data removed]"
     },
     "metadata":{
      "image\/png":{
       
      }
     },
     "output_type":"display_data"
    }
   ],
   "metadata":{
    "datalore":{
     "node_id":"pkhdam1HsBZvE8RW5Uw14g",
     "type":"CODE",
     "hide_input_from_viewers":false,
     "hide_output_from_viewers":false,
     "report_properties":{
      "rowId":"WfuaFOdI7j1x9d40VsQ3ln"
     }
    }
   }
  },
  {
   "cell_type":"markdown",
   "source":[
    "Судя по кривым деление выборки следует производить по признаку PEG (The exam performance of user for goal objects). Да, результат согласуется с визуальной оценкой диаграмм рассеяния, на графике распределения PEG и меток класса видно, что классы можно четко разделить по этому признаку. Чем более вогнутая кривая вниз, тем лучше выборка делится по этому признаку, потому что, чем меньше значение критерия Джини, тем больше информационный прирост и меньше неопределенность после разбиения. Выборку нельзя делить по кривым, значение которых почти константно находится вблизи 0.5, потому что для критерия Джини 0.5 плохой информационный прирост и больше неопределенность после разбиения."
   ],
   "attachments":{
    
   },
   "metadata":{
    "datalore":{
     "node_id":"fjukW79PyrEhq7Xt2dELOx",
     "type":"MD",
     "hide_input_from_viewers":true,
     "hide_output_from_viewers":true
    }
   }
  },
  {
   "cell_type":"markdown",
   "source":[
    "**Задание 2.4 (1 балл)** Протестируйте свое решающее дерево на датасете [mushrooms](https:\/\/archive.ics.uci.edu\/ml\/datasets\/Mushroom). \n",
    "\n",
    "1. Скачайте таблицу `agaricus-lepiota.data` (из [Data Folder](https:\/\/archive.ics.uci.edu\/ml\/machine-learning-databases\/mushroom\/)), \n",
    "2. Считайте таблицу при помощи `pandas`,\n",
    "3. Примените к каждому столбцу `LabelEncoder` (из `sklearn`), чтобы преобразовать строковые имена категорий в натуральные числа. \n",
    "\n",
    "Первый столбец — это целевая переменная (e — edible, p — poisonous) Мы будем измерять качество с помощью accuracy, так что нам не очень важно, что будет классом 1, а что — классом 0. Обучите решающее дерево на половине случайно выбранных объектов (признаки в датасете категориальные) и сделайте предсказания для оставшейся половины. Вычислите accuracy."
   ],
   "attachments":{
    
   },
   "metadata":{
    "datalore":{
     "node_id":"0uO7wiHQI3pARSKh6WAYJ2",
     "type":"MD",
     "hide_input_from_viewers":false,
     "hide_output_from_viewers":false,
     "report_properties":{
      "rowId":"u2HKyYRwrHlTDKPakdxhax"
     }
    }
   }
  },
  {
   "cell_type":"code",
   "source":[
    "# ᕕ(╭ರ╭ ͟ʖ╮•́)⊃¤=(————\n",
    "from sklearn import preprocessing\n",
    "le = preprocessing.LabelEncoder()\n",
    "data = pd.read_fwf(\"agaricus-lepiota.data\")\n",
    "data.head()"
   ],
   "execution_count":89,
   "outputs":[
    {
     "data":{
      "text\/html":[
       "<div>\n",
       "<style scoped>\n",
       "    .dataframe tbody tr th:only-of-type {\n",
       "        vertical-align: middle;\n",
       "    }\n",
       "\n",
       "    .dataframe tbody tr th {\n",
       "        vertical-align: top;\n",
       "    }\n",
       "\n",
       "    .dataframe thead th {\n",
       "        text-align: right;\n",
       "    }\n",
       "<\/style>\n",
       "<table border=\"1\" class=\"dataframe\">\n",
       "  <thead>\n",
       "    <tr style=\"text-align: right;\">\n",
       "      <th><\/th>\n",
       "      <th>p,x,s,n,t,p,f,c,n,k,e,e,s,s,w,w,p,w,o,p,k,s,u<\/th>\n",
       "    <\/tr>\n",
       "  <\/thead>\n",
       "  <tbody>\n",
       "    <tr>\n",
       "      <th>0<\/th>\n",
       "      <td>e,x,s,y,t,a,f,c,b,k,e,c,s,s,w,w,p,w,o,p,n,n,g<\/td>\n",
       "    <\/tr>\n",
       "    <tr>\n",
       "      <th>1<\/th>\n",
       "      <td>e,b,s,w,t,l,f,c,b,n,e,c,s,s,w,w,p,w,o,p,n,n,m<\/td>\n",
       "    <\/tr>\n",
       "    <tr>\n",
       "      <th>2<\/th>\n",
       "      <td>p,x,y,w,t,p,f,c,n,n,e,e,s,s,w,w,p,w,o,p,k,s,u<\/td>\n",
       "    <\/tr>\n",
       "    <tr>\n",
       "      <th>3<\/th>\n",
       "      <td>e,x,s,g,f,n,f,w,b,k,t,e,s,s,w,w,p,w,o,e,n,a,g<\/td>\n",
       "    <\/tr>\n",
       "    <tr>\n",
       "      <th>4<\/th>\n",
       "      <td>e,x,y,y,t,a,f,c,b,n,e,c,s,s,w,w,p,w,o,p,k,n,g<\/td>\n",
       "    <\/tr>\n",
       "  <\/tbody>\n",
       "<\/table>\n",
       "<\/div>"
      ]
     },
     "metadata":{
      
     },
     "output_type":"display_data"
    }
   ],
   "metadata":{
    "datalore":{
     "node_id":"n4xL3yuoI0a0uOrwtDlfbC",
     "type":"CODE",
     "hide_input_from_viewers":false,
     "hide_output_from_viewers":false,
     "report_properties":{
      "rowId":"UKAlWCuxJK6bVfMeeSJ3R1"
     }
    }
   }
  },
  {
   "cell_type":"markdown",
   "source":[
    "## Часть 3: Бэггинг и случайный лес (4 балла)"
   ],
   "attachments":{
    
   },
   "metadata":{
    "datalore":{
     "node_id":"lj9K57PEc3dnYeH5w9gplZ",
     "type":"MD",
     "hide_input_from_viewers":false,
     "hide_output_from_viewers":false,
     "report_properties":{
      "rowId":"S7b87xivFeEDFaV0jTYjFP"
     }
    }
   }
  },
  {
   "cell_type":"markdown",
   "source":[
    "В данной части мы будем работать [с задачей предсказания диабета у пациента](https:\/\/www.kaggle.com\/uciml\/pima-indians-diabetes-database\/data). Посмотрим на работу бэггинга над решающими деревьями и случайного леса, сравним их работу."
   ],
   "attachments":{
    
   },
   "metadata":{
    "datalore":{
     "node_id":"7R0WSwYurm1E8SXxS5PTld",
     "type":"MD",
     "hide_input_from_viewers":false,
     "hide_output_from_viewers":false,
     "report_properties":{
      "rowId":"cbj7wuqL8S3YRYFQYOFESF"
     }
    }
   }
  },
  {
   "cell_type":"code",
   "source":[
    "from sklearn.ensemble import BaggingClassifier, RandomForestClassifier\n",
    "from sklearn.metrics import accuracy_score, precision_score, recall_score, roc_auc_score\n",
    "from sklearn.model_selection import train_test_split\n",
    "from sklearn.tree import DecisionTreeClassifier"
   ],
   "execution_count":90,
   "outputs":[
    
   ],
   "metadata":{
    "datalore":{
     "node_id":"6GbVKSeqhsN1wwfCCffrrN",
     "type":"CODE",
     "hide_input_from_viewers":false,
     "hide_output_from_viewers":false,
     "report_properties":{
      "rowId":"4wKkQTFM454Y0VR15NPawh"
     }
    }
   }
  },
  {
   "cell_type":"code",
   "source":[
    "data = pd.read_csv('diabetes.csv')\n",
    "print(f\"Dataset shape: {data.shape}\")\n",
    "data.head()"
   ],
   "execution_count":91,
   "outputs":[
    {
     "name":"stdout",
     "text":[
      "Dataset shape: (768, 9)\n"
     ],
     "output_type":"stream"
    },
    {
     "data":{
      "text\/html":[
       "<div>\n",
       "<style scoped>\n",
       "    .dataframe tbody tr th:only-of-type {\n",
       "        vertical-align: middle;\n",
       "    }\n",
       "\n",
       "    .dataframe tbody tr th {\n",
       "        vertical-align: top;\n",
       "    }\n",
       "\n",
       "    .dataframe thead th {\n",
       "        text-align: right;\n",
       "    }\n",
       "<\/style>\n",
       "<table border=\"1\" class=\"dataframe\">\n",
       "  <thead>\n",
       "    <tr style=\"text-align: right;\">\n",
       "      <th><\/th>\n",
       "      <th>Pregnancies<\/th>\n",
       "      <th>Glucose<\/th>\n",
       "      <th>BloodPressure<\/th>\n",
       "      <th>SkinThickness<\/th>\n",
       "      <th>Insulin<\/th>\n",
       "      <th>BMI<\/th>\n",
       "      <th>DiabetesPedigreeFunction<\/th>\n",
       "      <th>Age<\/th>\n",
       "      <th>Outcome<\/th>\n",
       "    <\/tr>\n",
       "  <\/thead>\n",
       "  <tbody>\n",
       "    <tr>\n",
       "      <th>0<\/th>\n",
       "      <td>6<\/td>\n",
       "      <td>148<\/td>\n",
       "      <td>72<\/td>\n",
       "      <td>35<\/td>\n",
       "      <td>0<\/td>\n",
       "      <td>33.6<\/td>\n",
       "      <td>0.627<\/td>\n",
       "      <td>50<\/td>\n",
       "      <td>1<\/td>\n",
       "    <\/tr>\n",
       "    <tr>\n",
       "      <th>1<\/th>\n",
       "      <td>1<\/td>\n",
       "      <td>85<\/td>\n",
       "      <td>66<\/td>\n",
       "      <td>29<\/td>\n",
       "      <td>0<\/td>\n",
       "      <td>26.6<\/td>\n",
       "      <td>0.351<\/td>\n",
       "      <td>31<\/td>\n",
       "      <td>0<\/td>\n",
       "    <\/tr>\n",
       "    <tr>\n",
       "      <th>2<\/th>\n",
       "      <td>8<\/td>\n",
       "      <td>183<\/td>\n",
       "      <td>64<\/td>\n",
       "      <td>0<\/td>\n",
       "      <td>0<\/td>\n",
       "      <td>23.3<\/td>\n",
       "      <td>0.672<\/td>\n",
       "      <td>32<\/td>\n",
       "      <td>1<\/td>\n",
       "    <\/tr>\n",
       "    <tr>\n",
       "      <th>3<\/th>\n",
       "      <td>1<\/td>\n",
       "      <td>89<\/td>\n",
       "      <td>66<\/td>\n",
       "      <td>23<\/td>\n",
       "      <td>94<\/td>\n",
       "      <td>28.1<\/td>\n",
       "      <td>0.167<\/td>\n",
       "      <td>21<\/td>\n",
       "      <td>0<\/td>\n",
       "    <\/tr>\n",
       "    <tr>\n",
       "      <th>4<\/th>\n",
       "      <td>0<\/td>\n",
       "      <td>137<\/td>\n",
       "      <td>40<\/td>\n",
       "      <td>35<\/td>\n",
       "      <td>168<\/td>\n",
       "      <td>43.1<\/td>\n",
       "      <td>2.288<\/td>\n",
       "      <td>33<\/td>\n",
       "      <td>1<\/td>\n",
       "    <\/tr>\n",
       "  <\/tbody>\n",
       "<\/table>\n",
       "<\/div>"
      ]
     },
     "metadata":{
      
     },
     "output_type":"display_data"
    }
   ],
   "metadata":{
    "datalore":{
     "node_id":"ZlMZa4ZtXyoVT9Bk41U80r",
     "type":"CODE",
     "hide_input_from_viewers":false,
     "hide_output_from_viewers":false,
     "report_properties":{
      "rowId":"VCkgl22Tg148XCGcjOyfjI"
     }
    }
   }
  },
  {
   "cell_type":"markdown",
   "source":[
    "Посмотрим на распределение целевой переменной"
   ],
   "attachments":{
    
   },
   "metadata":{
    "datalore":{
     "node_id":"XE4q7P5y0s0pmcgGu5J3pH",
     "type":"MD",
     "hide_input_from_viewers":false,
     "hide_output_from_viewers":false,
     "report_properties":{
      "rowId":"7VbyY5Xq1icNmqu8EalHEr"
     }
    }
   }
  },
  {
   "cell_type":"code",
   "source":[
    "data['Outcome'].hist()\n",
    "plt.show()"
   ],
   "execution_count":92,
   "outputs":[
    {
     "data":{
      "image\/png":"[encoded data removed]"
     },
     "metadata":{
      "image\/png":{
       
      }
     },
     "output_type":"display_data"
    }
   ],
   "metadata":{
    "datalore":{
     "node_id":"9m5aQJndiZhx5U2Wt1Wd5J",
     "type":"CODE",
     "hide_input_from_viewers":false,
     "hide_output_from_viewers":false,
     "report_properties":{
      "rowId":"9Y4HrwZRzl2vvM6OWc0fFP"
     }
    }
   }
  },
  {
   "cell_type":"markdown",
   "source":[
    "Нулевого класса заметно больше, чем первого."
   ],
   "attachments":{
    
   },
   "metadata":{
    "datalore":{
     "node_id":"8uPawvi7KwX8ekOFVpWih3",
     "type":"MD",
     "hide_input_from_viewers":true,
     "hide_output_from_viewers":true
    }
   }
  },
  {
   "cell_type":"markdown",
   "source":[
    "**Задание 3.1 (0.5 балла)** Разделите данные на признаки и целевую переменную. Разбейте датасет на обучающую и тестовую части в отношении 7:3. Затем разделите обучающую выборку на обучающую-обучающую и обучающую-валидационную в соотношении 7:3 (то есть в итоге должно получиться три выборки: обучающая-обучающая (0.49 от исходного датасета), обучающая-валидационная (0.21 от исходного датасета) и тестовая (0.3 от исходного датасета)."
   ],
   "attachments":{
    
   },
   "metadata":{
    "datalore":{
     "node_id":"WuIztT4DM2bTvN6UuMqHBp",
     "type":"MD",
     "hide_input_from_viewers":false,
     "hide_output_from_viewers":false,
     "report_properties":{
      "rowId":"JoNITajGO2LbdVb8VhJlVu"
     }
    }
   }
  },
  {
   "cell_type":"code",
   "source":[
    "# ᕕ(╭ರ╭ ͟ʖ╮•́)⊃¤=(————\n",
    "feature_names = [\"Pregnancies\", \"Glucose\", \"BloodPressure\", \"SkinThickness\", \"Insulin\", \"BMI\", \"DiabetesPedigreeFunction\", \"Age\"]\n",
    "X = pd.DataFrame(data=data, columns=feature_names)\n",
    "y = data[\"Outcome\"]\n",
    "X.head()"
   ],
   "execution_count":93,
   "outputs":[
    {
     "data":{
      "text\/html":[
       "<div>\n",
       "<style scoped>\n",
       "    .dataframe tbody tr th:only-of-type {\n",
       "        vertical-align: middle;\n",
       "    }\n",
       "\n",
       "    .dataframe tbody tr th {\n",
       "        vertical-align: top;\n",
       "    }\n",
       "\n",
       "    .dataframe thead th {\n",
       "        text-align: right;\n",
       "    }\n",
       "<\/style>\n",
       "<table border=\"1\" class=\"dataframe\">\n",
       "  <thead>\n",
       "    <tr style=\"text-align: right;\">\n",
       "      <th><\/th>\n",
       "      <th>Pregnancies<\/th>\n",
       "      <th>Glucose<\/th>\n",
       "      <th>BloodPressure<\/th>\n",
       "      <th>SkinThickness<\/th>\n",
       "      <th>Insulin<\/th>\n",
       "      <th>BMI<\/th>\n",
       "      <th>DiabetesPedigreeFunction<\/th>\n",
       "      <th>Age<\/th>\n",
       "    <\/tr>\n",
       "  <\/thead>\n",
       "  <tbody>\n",
       "    <tr>\n",
       "      <th>0<\/th>\n",
       "      <td>6<\/td>\n",
       "      <td>148<\/td>\n",
       "      <td>72<\/td>\n",
       "      <td>35<\/td>\n",
       "      <td>0<\/td>\n",
       "      <td>33.6<\/td>\n",
       "      <td>0.627<\/td>\n",
       "      <td>50<\/td>\n",
       "    <\/tr>\n",
       "    <tr>\n",
       "      <th>1<\/th>\n",
       "      <td>1<\/td>\n",
       "      <td>85<\/td>\n",
       "      <td>66<\/td>\n",
       "      <td>29<\/td>\n",
       "      <td>0<\/td>\n",
       "      <td>26.6<\/td>\n",
       "      <td>0.351<\/td>\n",
       "      <td>31<\/td>\n",
       "    <\/tr>\n",
       "    <tr>\n",
       "      <th>2<\/th>\n",
       "      <td>8<\/td>\n",
       "      <td>183<\/td>\n",
       "      <td>64<\/td>\n",
       "      <td>0<\/td>\n",
       "      <td>0<\/td>\n",
       "      <td>23.3<\/td>\n",
       "      <td>0.672<\/td>\n",
       "      <td>32<\/td>\n",
       "    <\/tr>\n",
       "    <tr>\n",
       "      <th>3<\/th>\n",
       "      <td>1<\/td>\n",
       "      <td>89<\/td>\n",
       "      <td>66<\/td>\n",
       "      <td>23<\/td>\n",
       "      <td>94<\/td>\n",
       "      <td>28.1<\/td>\n",
       "      <td>0.167<\/td>\n",
       "      <td>21<\/td>\n",
       "    <\/tr>\n",
       "    <tr>\n",
       "      <th>4<\/th>\n",
       "      <td>0<\/td>\n",
       "      <td>137<\/td>\n",
       "      <td>40<\/td>\n",
       "      <td>35<\/td>\n",
       "      <td>168<\/td>\n",
       "      <td>43.1<\/td>\n",
       "      <td>2.288<\/td>\n",
       "      <td>33<\/td>\n",
       "    <\/tr>\n",
       "  <\/tbody>\n",
       "<\/table>\n",
       "<\/div>"
      ]
     },
     "metadata":{
      
     },
     "output_type":"display_data"
    }
   ],
   "metadata":{
    "datalore":{
     "node_id":"p7lxEqv5QG4mcuseEu62Cq",
     "type":"CODE",
     "hide_input_from_viewers":false,
     "hide_output_from_viewers":false,
     "report_properties":{
      "rowId":"9AhrQtSZNDi3x6JEu1KQ9L"
     }
    }
   }
  },
  {
   "cell_type":"code",
   "source":[
    "y"
   ],
   "execution_count":94,
   "outputs":[
    {
     "data":{
      "text\/html":[
       "<pre>0      1\n",
       "1      0\n",
       "2      1\n",
       "3      0\n",
       "4      1\n",
       "      ..\n",
       "763    0\n",
       "764    0\n",
       "765    0\n",
       "766    1\n",
       "767    0\n",
       "Name: Outcome, Length: 768, dtype: int64<\/pre>"
      ]
     },
     "metadata":{
      
     },
     "output_type":"display_data"
    }
   ],
   "metadata":{
    "datalore":{
     "node_id":"gy9sCoB5w5QKGnVJLmfaZG",
     "type":"CODE",
     "hide_input_from_viewers":true,
     "hide_output_from_viewers":true
    }
   }
  },
  {
   "cell_type":"code",
   "source":[
    "X_train, X_test, y_train, y_test = train_test_split(X, y, train_size=0.7, random_state=123)\n",
    "X_train1, X_val, y_train1, y_val = train_test_split(X_train, y_train, train_size=0.7, random_state=123)"
   ],
   "execution_count":95,
   "outputs":[
    
   ],
   "metadata":{
    "datalore":{
     "node_id":"dyHDEz9QnQuevBJJrcYbmk",
     "type":"CODE",
     "hide_input_from_viewers":true,
     "hide_output_from_viewers":true
    }
   }
  },
  {
   "cell_type":"markdown",
   "source":[
    "**Задание 3.2 (1 балл)** На обучающей-валидационной выборке подберите оптимальные значения гиперпараметров `max_depth` и `min_samples_leaf` для `DecisionTreeClassifier`. Для этого:\n",
    "1. Создайте списки с возможными значениями для перебора.\n",
    "2. Для каждой пары значений обучите дерево на обучающей-обучающей выборке и определите качество на обучающей-валидационной выборке. В качестве критерия будем использовать `f1-меру`.\n",
    "3. Выберите ту пару значений, которая даёт наилучшее качество на обучающей-валидационной выборке. \n",
    "\n",
    "\n",
    "Обучите решающее дерево с подобранными гиперпараметрами на **полной обучающей** выборке. Оцените качество классификации на тестовой выборке по метрикам `accuracy`, `precision` и `recall`, `auc_roc`."
   ],
   "attachments":{
    
   },
   "metadata":{
    "datalore":{
     "node_id":"D00tXR2MEdpTcOtpzoJxDq",
     "type":"MD",
     "hide_input_from_viewers":false,
     "hide_output_from_viewers":false,
     "report_properties":{
      "rowId":"OWNePaywPEmGj3XEuLsP0a"
     }
    }
   }
  },
  {
   "cell_type":"code",
   "source":[
    "# ᕕ(╭ರ╭ ͟ʖ╮•́)⊃¤=(————\n",
    "from sklearn.metrics import f1_score\n",
    "max_depth_list = [i for i in range(1,30)]\n",
    "min_samples_leaf_list = [k for k in range(1,20)]\n",
    "f1_best_value = 0\n",
    "for max_depth in max_depth_list:\n",
    "    for min_samples_leaf in min_samples_leaf_list:\n",
    "        DTC = DecisionTreeClassifier(max_depth=max_depth, min_samples_leaf=min_samples_leaf, random_state=123)\n",
    "        DTC.fit(X_train1, y_train1)\n",
    "        y_pred = DTC.predict(X_val)\n",
    "        f1 = f1_score(y_val, y_pred)\n",
    "        if f1 > f1_best_value:\n",
    "            f1_best_value = f1\n",
    "            max_depth_best = max_depth\n",
    "            min_samples_leaf_best = min_samples_leaf\n",
    "\n",
    "print(f'Наилучшее качество дает пара значений max_depth: {max_depth_best} и min_samples_leaf: {min_samples_leaf_best}')\n",
    "print(f'При таких значениях гиперпараметров метрика качества f1 составит: {round(f1_best_value, 4)}')"
   ],
   "execution_count":96,
   "outputs":[
    {
     "name":"stdout",
     "text":[
      "Наилучшее качество дает пара значений max_depth: 3 и min_samples_leaf: 1\n",
      "При таких значениях гиперпараметров метрика качества f1 составит: 0.6168\n"
     ],
     "output_type":"stream"
    }
   ],
   "metadata":{
    "datalore":{
     "node_id":"qxmSFQfRVC2oWNbtT1DmlD",
     "type":"CODE",
     "hide_input_from_viewers":false,
     "hide_output_from_viewers":false,
     "report_properties":{
      "rowId":"D3lsMZcaFZDR8HyzzOMvrR"
     }
    }
   }
  },
  {
   "cell_type":"code",
   "source":[
    "DTC = DecisionTreeClassifier(max_depth=3, min_samples_leaf=1, random_state=123)\n",
    "DTC.fit(X_train, y_train)\n",
    "y_pred = DTC.predict(X_test)\n",
    "f1 = f1_score(y_test, y_pred)\n",
    "print(f'f1 метрика качества решающего дерева с подобранными на валиде гиперпараметрами составляет: {round(f1, 4)}')\n",
    "print('Другие метрики качества равны')\n",
    "print(f'accuracy: {round(accuracy_score(y_test, y_pred), 4)}')\n",
    "print(f'precision: {round(precision_score(y_test, y_pred), 4)}')\n",
    "print(f'recall: {round(recall_score(y_test, y_pred), 4)}')\n",
    "print(f'auc-roc: {round(roc_auc_score(y_test, DTC.predict_proba(X_test)[:, 1]), 4)}')"
   ],
   "execution_count":97,
   "outputs":[
    {
     "name":"stdout",
     "text":[
      "f1 метрика качества решающего дерева с подобранными на валиде гиперпараметрами составляет: 0.4878\n",
      "Другие метрики качества равны\n",
      "accuracy: 0.7273\n",
      "precision: 0.8571\n",
      "recall: 0.3409\n",
      "auc-roc: 0.7448\n"
     ],
     "output_type":"stream"
    }
   ],
   "metadata":{
    "datalore":{
     "node_id":"rpypESf7CYRyKSfEVcX0Hn",
     "type":"CODE",
     "hide_input_from_viewers":true,
     "hide_output_from_viewers":true
    }
   }
  },
  {
   "cell_type":"markdown",
   "source":[
    "Почти все метрики качества принимают хорошее значение, за исключением recall и f1 меры, что говорит о том, что построенная модель **плохо обнаруживает положительный класс** (плохой recall), когда предсказывает положительный класс в большинстве случаев оказывается права (хороший precision). Хорошая площадь под ROC кривой, достаточно близка к единице"
   ],
   "attachments":{
    
   },
   "metadata":{
    "datalore":{
     "node_id":"h1GYLktxNYXzK0KesBglCs",
     "type":"MD",
     "hide_input_from_viewers":true,
     "hide_output_from_viewers":true
    }
   }
  },
  {
   "cell_type":"markdown",
   "source":[
    "**Задание 3.3 (0.5 балла)** Обучите [`BaggingClassifier`](https:\/\/scikit-learn.org\/stable\/modules\/generated\/sklearn.ensemble.BaggingClassifier.html) на 50 деревьях на **полной обучающей** выборке. Оцените качество классификации на тестовой выборке по тем же метрикам."
   ],
   "attachments":{
    
   },
   "metadata":{
    "datalore":{
     "node_id":"onruZeWN00CMO7ATFiDkej",
     "type":"MD",
     "hide_input_from_viewers":false,
     "hide_output_from_viewers":false,
     "report_properties":{
      "rowId":"TvTGgNpTkUhd4rWH09u8gT"
     }
    }
   }
  },
  {
   "cell_type":"code",
   "source":[
    "# ᕕ(╭ರ╭ ͟ʖ╮•́)⊃¤=(————\n",
    "base_tree = DecisionTreeClassifier()\n",
    "BC = BaggingClassifier(base_tree, n_estimators=50, random_state=123)\n",
    "BC.fit(X_train, y_train)\n",
    "y_pred = BC.predict(X_test)\n",
    "f1 = f1_score(y_test, y_pred)\n",
    "print(f'f1 метрика качества решающего дерева с подобранными на валиде гиперпараметрами составляет: {round(f1, 4)}')\n",
    "print('Другие метрики качества равны')\n",
    "print(f'accuracy: {round(accuracy_score(y_test, y_pred), 4)}')\n",
    "print(f'precision: {round(precision_score(y_test, y_pred), 4)}')\n",
    "print(f'recall: {round(recall_score(y_test, y_pred), 4)}')\n",
    "print(f'auc-roc: {round(roc_auc_score(y_test, BC.predict_proba(X_test)[:, 1]), 4)}')"
   ],
   "execution_count":98,
   "outputs":[
    {
     "name":"stdout",
     "text":[
      "f1 метрика качества решающего дерева с подобранными на валиде гиперпараметрами составляет: 0.7126\n",
      "Другие метрики качества равны\n",
      "accuracy: 0.7835\n",
      "precision: 0.7209\n",
      "recall: 0.7045\n",
      "auc-roc: 0.8572\n"
     ],
     "output_type":"stream"
    }
   ],
   "metadata":{
    "datalore":{
     "node_id":"CKEgYcRBIS77AvCQWvn3gO",
     "type":"CODE",
     "hide_input_from_viewers":false,
     "hide_output_from_viewers":false,
     "report_properties":{
      "rowId":"m5Jk05Rroed8kLpieC7ZoY"
     }
    }
   }
  },
  {
   "cell_type":"markdown",
   "source":[
    "Видим значительное улучшение метрик качества. Независимое обучение деревьев улучшило результат, значения метрик качества увеличились. Значение precision чуть-чуть упало, что говорит о том, что модель чаще ошибается, когда предсказывает положительный класс, чем обученное решающее дерево. Но в целом качество на тестовых данных увеличилось, модель стала более устойчивой к изменениям в выборке (разброс уменьшился)."
   ],
   "attachments":{
    
   },
   "metadata":{
    "datalore":{
     "node_id":"pfj2slCcg6obVNSK5EZ7uJ",
     "type":"MD",
     "hide_input_from_viewers":true,
     "hide_output_from_viewers":true
    }
   }
  },
  {
   "cell_type":"markdown",
   "source":[
    "**Задание 3.4 (1 балл)** Выполните кросс-валидацию на полной обучающей выборке и подберите оптимальные значения гиперпараметров `max_depth` и `min_samples_split` для `Random Forest` с 50 деревьями. Для этого:\n",
    "\n",
    "1. Создайте списки с возможными значениями для перебора.\n",
    "2. Для каждой пары значений проведите кросс-валидацию на полной обучающей выборке. Количество разбиений выберите на ваш вкус. В качестве критерия будем использовать `f1-меру`. Усредните значение критерия по всем прогонам кросс-валидации. \n",
    "3. Выберите ту пару значений, которая даёт наилучшее среднее качество. \n",
    "\n",
    "Обучите случайный лес с подобранными гиперпараметрами на **полной обучающей** выборке. Оцените качество классификации по тем же метрикам. Какая из трёх построенных моделей показала себя лучше?"
   ],
   "attachments":{
    
   },
   "metadata":{
    "datalore":{
     "node_id":"thYKMyIBgA0Ipa3yoQI0CP",
     "type":"MD",
     "hide_input_from_viewers":false,
     "hide_output_from_viewers":false,
     "report_properties":{
      "rowId":"QTUo0lUwAzUGOpeePgh9jY"
     }
    }
   }
  },
  {
   "cell_type":"code",
   "source":[
    "# ᕕ(╭ರ╭ ͟ʖ╮•́)⊃¤=(————\n",
    "from sklearn.model_selection import cross_val_score\n",
    "max_depth_list = [i for i in range(1,10)]\n",
    "min_samples_split_list = [2**k for k in range(1,6)]\n",
    "results = {}\n",
    "for max_depth in max_depth_list:\n",
    "    for min_samples_split in min_samples_split_list:\n",
    "        RF = RandomForestClassifier(n_estimators=50, max_depth=max_depth, min_samples_split=min_samples_split, random_state=123)\n",
    "        scores = cross_val_score(RF, X_train, y_train, cv=5, scoring = \"f1_macro\")\n",
    "        results[(max_depth, min_samples_split)] = np.mean(scores)\n",
    "best_params = max(results, key=results.get)\n",
    "print(f\"Best parameters: {best_params}, mean f1-macro: {results[best_params]}\")"
   ],
   "execution_count":99,
   "outputs":[
    {
     "name":"stdout",
     "text":[
      "Best parameters: (7, 16), mean f1-macro: 0.7317303507315271\n"
     ],
     "output_type":"stream"
    }
   ],
   "metadata":{
    "datalore":{
     "node_id":"800pq5gEFIYpigleBxSBQ2",
     "type":"CODE",
     "hide_input_from_viewers":false,
     "hide_output_from_viewers":false,
     "report_properties":{
      "rowId":"GXpI2DFUu6upQ48weBAWaR"
     }
    }
   }
  },
  {
   "cell_type":"code",
   "source":[
    "RF = RandomForestClassifier(n_estimators=50, max_depth=7, min_samples_split=16, random_state=123)\n",
    "RF.fit(X_train, y_train)\n",
    "y_pred = RF.predict(X_test)\n",
    "print(f'f1 метрика качества решающего дерева с подобранными на валиде гиперпараметрами составляет: {round(f1_score(y_test, y_pred), 4)}')\n",
    "print('Другие метрики качества равны')\n",
    "print(f'accuracy: {round(accuracy_score(y_test, y_pred), 4)}')\n",
    "print(f'precision: {round(precision_score(y_test, y_pred), 4)}')\n",
    "print(f'recall: {round(recall_score(y_test, y_pred), 4)}')\n",
    "print(f'auc-roc: {round(roc_auc_score(y_test, RF.predict_proba(X_test)[:, 1]), 4)}')"
   ],
   "execution_count":100,
   "outputs":[
    {
     "name":"stdout",
     "text":[
      "f1 метрика качества решающего дерева с подобранными на валиде гиперпараметрами составляет: 0.6667\n",
      "Другие метрики качества равны\n",
      "accuracy: 0.7662\n",
      "precision: 0.7297\n",
      "recall: 0.6136\n",
      "auc-roc: 0.8651\n"
     ],
     "output_type":"stream"
    }
   ],
   "metadata":{
    "datalore":{
     "node_id":"CGxqoDHn3UZieyHo1V0zeC",
     "type":"CODE",
     "hide_input_from_viewers":true,
     "hide_output_from_viewers":true
    }
   }
  },
  {
   "cell_type":"markdown",
   "source":[
    "Каждая модель имеет свои особенности, однако лучшей в целом в нашем случае оказалась модель с бэггиингом деревьев. Это может быть связано с тем, что в случайном лесу часть важных признаков отсеивалась, что влияло на метрики качества, а решающее дерево по сравнению со своими более сложными аналогами имеет больший разброс и показывает плохое качество на тестовых данных."
   ],
   "attachments":{
    
   },
   "metadata":{
    "datalore":{
     "node_id":"N52FA8xb4ENcUp87ho17o4",
     "type":"MD",
     "hide_input_from_viewers":true,
     "hide_output_from_viewers":true
    }
   }
  },
  {
   "cell_type":"markdown",
   "source":[
    "**Задание 3.5 (0.5 балла)** Постройте график зависимости AUC ROC на тестовой выборке от числа деревьев (`n_estimators`) для случайного леса, обучаемого на **полной обучающей** выборке. Какие выводы можно сделать?"
   ],
   "attachments":{
    
   },
   "metadata":{
    "datalore":{
     "node_id":"R1B9LTEeyYR77w0JV6PPC4",
     "type":"MD",
     "hide_input_from_viewers":false,
     "hide_output_from_viewers":false,
     "report_properties":{
      "rowId":"vzoS8wCJiF8dHw9e5bAWhn"
     }
    }
   }
  },
  {
   "cell_type":"code",
   "source":[
    "# ᕕ(╭ರ╭ ͟ʖ╮•́)⊃¤=(————\n",
    "n_estimators = [i*5 for i in range(1, 20)]\n",
    "auc_roc_values = []\n",
    "for n in n_estimators:\n",
    "    RF = RandomForestClassifier(n_estimators=n, random_state=123)\n",
    "    RF.fit(X_train, y_train)\n",
    "    auc_roc = roc_auc_score(y_test, RF.predict_proba(X_test)[:, 1])\n",
    "    auc_roc_values.append(auc_roc)\n",
    "plt.figure(figsize=(10, 5))\n",
    "plt.title(\"Зависимость AUC-ROC от n_estimators для RandomForest\", fontsize=13)\n",
    "plt.xlabel(\"n_estimators\", fontsize=13)\n",
    "plt.ylabel(\"Value of AUC-ROC\", fontsize=13)\n",
    "plt.plot(n_estimators, auc_roc_values, label=\"AUCsignificance\")\n",
    "plt.legend(loc=2)\n",
    "plt.show()"
   ],
   "execution_count":101,
   "outputs":[
    {
     "data":{
      "image\/png":"[encoded data removed]"
     },
     "metadata":{
      "image\/png":{
       
      }
     },
     "output_type":"display_data"
    }
   ],
   "metadata":{
    "datalore":{
     "node_id":"u3YAXpagbGrsiTosIeVsis",
     "type":"CODE",
     "hide_input_from_viewers":false,
     "hide_output_from_viewers":false,
     "report_properties":{
      "rowId":"1rzSEI74TOfNnVpWFzFmjR"
     }
    }
   }
  },
  {
   "cell_type":"markdown",
   "source":[
    "По графику можно сделать вывод, что c ростом числа деревьев в случайном лесу площадь под ROC кривой становится все ближе к единице, то есть при большем числе деревьев качество случайного леса лучше. Однако есть \"предел насыщения\", после которого с ростом числа деревьев AUC-ROC необязательно растет, а может и падать."
   ],
   "attachments":{
    
   },
   "metadata":{
    "datalore":{
     "node_id":"hyttSfiX0syD6X8HOZp2R9",
     "type":"MD",
     "hide_input_from_viewers":true,
     "hide_output_from_viewers":true
    }
   }
  },
  {
   "cell_type":"markdown",
   "source":[
    "**Задание 3.6 (0.5 балла)** Для лучшей модели случайного леса из **Задания 3.4** посчитайте важность признаков и постройте bar plot. Какой признак оказался самым важным для определения диабета?"
   ],
   "attachments":{
    
   },
   "metadata":{
    "datalore":{
     "node_id":"YDgC4so2jDTmpIrTAzZp3R",
     "type":"MD",
     "hide_input_from_viewers":false,
     "hide_output_from_viewers":false,
     "report_properties":{
      "rowId":"XuCUVkjnHLrmoP1w8Ej67M"
     }
    }
   }
  },
  {
   "cell_type":"code",
   "source":[
    "# ᕕ(╭ರ╭ ͟ʖ╮•́)⊃¤=(————"
   ],
   "execution_count":102,
   "outputs":[
    
   ],
   "metadata":{
    "datalore":{
     "node_id":"oVeQCslZJkYo4M6xiD2xi6",
     "type":"CODE",
     "hide_input_from_viewers":false,
     "hide_output_from_viewers":false,
     "report_properties":{
      "rowId":"YwUzEVbn4uJdRRtkE3Hqs5"
     }
    }
   }
  }
 ],
 "metadata":{
  "kernelspec":{
   "display_name":"Python",
   "language":"python",
   "name":"python"
  },
  "datalore":{
   "computation_mode":"JUPYTER",
   "package_manager":"pip",
   "base_environment":"default",
   "packages":[
    
   ],
   "report_row_ids":[
    "sB0DIPJhTdGViToiYZGrud",
    "aijF3T9i5gtbAY8jXBhhoB",
    "n6PFjsD5HnmTgXny9NDyLk",
    "7Z9MXU2jSjjV9crV4C42Kb",
    "X1nATbF1Em6K4UdgOwlPHx",
    "nHb6k6A9QZ1y6fFFm8KqKE",
    "749gIeqS4rjEYBNiKJLXva",
    "VPY6xofZl8zxj5Z0epcn92",
    "hgL8KbAe6AmxtoQnksDs68",
    "cEVGEXBvJISk8Q4JbW5KtA",
    "qF8Z4IL7JFxzlJuuevvlEa",
    "Fso8g7SFSVlCWXeuDyy0C4",
    "uFa29GbeqyBzeo5zlOG39I",
    "x8DJhsNyhhuvXFde67EIwW",
    "7b0xRbjlo9ySIoKf4y4Vb1",
    "dXI4uytGQoSUKcJtsZknYh",
    "ChQMQcs6rvhIYxYr5wMQs3",
    "chXhsbhiTZ318NHsB8UzVl",
    "uIwVjlelT2J5xVa3QzSYgK",
    "AcMju7dJkg9SuybXVwl91Z",
    "FIltOtmz6rzbQhmDk8aGI7",
    "BxwpD7j7BCOJ3CLpUYl63B",
    "ryCvr2lvPRHUkkn72We5Cp",
    "TVbszYPclDrrhvvMHCJv8Q",
    "k4q9wxKYzKqWse1IwsuK6d",
    "6mBvgkjoYdV77WRkTgBON0",
    "WfuaFOdI7j1x9d40VsQ3ln",
    "u2HKyYRwrHlTDKPakdxhax",
    "UKAlWCuxJK6bVfMeeSJ3R1",
    "S7b87xivFeEDFaV0jTYjFP",
    "cbj7wuqL8S3YRYFQYOFESF",
    "4wKkQTFM454Y0VR15NPawh",
    "VCkgl22Tg148XCGcjOyfjI",
    "7VbyY5Xq1icNmqu8EalHEr",
    "9Y4HrwZRzl2vvM6OWc0fFP",
    "JoNITajGO2LbdVb8VhJlVu",
    "9AhrQtSZNDi3x6JEu1KQ9L",
    "OWNePaywPEmGj3XEuLsP0a",
    "D3lsMZcaFZDR8HyzzOMvrR",
    "TvTGgNpTkUhd4rWH09u8gT",
    "m5Jk05Rroed8kLpieC7ZoY",
    "QTUo0lUwAzUGOpeePgh9jY",
    "GXpI2DFUu6upQ48weBAWaR",
    "vzoS8wCJiF8dHw9e5bAWhn",
    "1rzSEI74TOfNnVpWFzFmjR",
    "XuCUVkjnHLrmoP1w8Ej67M",
    "YwUzEVbn4uJdRRtkE3Hqs5"
   ],
   "version":3
  }
 },
 "nbformat":4,
 "nbformat_minor":4
}