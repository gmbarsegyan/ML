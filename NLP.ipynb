{
 "cells":[
  {
   "cell_type":"markdown",
   "source":[
    "# Домашнее задание 6: классификация текстов"
   ],
   "attachments":{
    
   },
   "metadata":{
    "datalore":{
     "node_id":"KjMzuKRCFHB2U6daENPapG",
     "type":"MD",
     "hide_input_from_viewers":false,
     "hide_output_from_viewers":false,
     "report_properties":{
      "rowId":"CjlHRtoXYvvKbADUMvUDKN"
     }
    }
   }
  },
  {
   "cell_type":"markdown",
   "source":[
    "В этом домашнем задании вам предстоит построить классификатор текстов!\n",
    "\n",
    "Данные мы будем использовать из Kaggle соревнования: https:\/\/www.kaggle.com\/competitions\/nlp-getting-started\/data \n",
    "\n",
    "\n",
    "Оттуда надо скачать файл train.csv. На обучающую и тестовую выборки его поделим кодом ниже, менять его не надо!"
   ],
   "attachments":{
    
   },
   "metadata":{
    "datalore":{
     "node_id":"bOiNjk1GMInxqgYPZ8GYsG",
     "type":"MD",
     "hide_input_from_viewers":false,
     "hide_output_from_viewers":false,
     "report_properties":{
      "rowId":"eSICnUc8QNZjkfDHBU6Nbc"
     }
    }
   }
  },
  {
   "cell_type":"markdown",
   "source":[
    "Мы будем работать с датасетом постов из твиттера. Нам предстоит решать задачу бинарной классификации - определять содержатся ли в твитте информация о настоящей катастрофе\/инциденте или нет."
   ],
   "attachments":{
    
   },
   "metadata":{
    "datalore":{
     "node_id":"HJKk4MyvgfT3w6Z35TY54W",
     "type":"MD",
     "hide_input_from_viewers":false,
     "hide_output_from_viewers":false,
     "report_properties":{
      "rowId":"Guxb236NTVIuCOlYLDhFmY"
     }
    }
   }
  },
  {
   "cell_type":"code",
   "source":[
    "import numpy as np\n",
    "import pandas as pd\n",
    "from typing import  List\n",
    "import matplotlib.pyplot as plt\n",
    "import seaborn as sns\n",
    "from string import punctuation"
   ],
   "execution_count":81,
   "outputs":[
    
   ],
   "metadata":{
    "datalore":{
     "node_id":"NRHXtuJeyHHMowX3XhTv8Y",
     "type":"CODE",
     "hide_input_from_viewers":false,
     "hide_output_from_viewers":false,
     "report_properties":{
      "rowId":"nc5nulVF2oMuB8DQmMnjmk"
     }
    }
   }
  },
  {
   "cell_type":"code",
   "source":[
    "data = pd.read_csv('train.csv')"
   ],
   "execution_count":82,
   "outputs":[
    
   ],
   "metadata":{
    "datalore":{
     "node_id":"YfSEXh69D2mt9GxiqLwIqj",
     "type":"CODE",
     "hide_input_from_viewers":false,
     "hide_output_from_viewers":false,
     "report_properties":{
      "rowId":"kmrEwsBsc7y8teg6jpQ0Lb"
     }
    }
   }
  },
  {
   "cell_type":"code",
   "source":[
    "data.head()"
   ],
   "execution_count":83,
   "outputs":[
    {
     "data":{
      "text\/html":[
       "<div>\n",
       "<style scoped>\n",
       "    .dataframe tbody tr th:only-of-type {\n",
       "        vertical-align: middle;\n",
       "    }\n",
       "\n",
       "    .dataframe tbody tr th {\n",
       "        vertical-align: top;\n",
       "    }\n",
       "\n",
       "    .dataframe thead th {\n",
       "        text-align: right;\n",
       "    }\n",
       "<\/style>\n",
       "<table border=\"1\" class=\"dataframe\">\n",
       "  <thead>\n",
       "    <tr style=\"text-align: right;\">\n",
       "      <th><\/th>\n",
       "      <th>id<\/th>\n",
       "      <th>keyword<\/th>\n",
       "      <th>location<\/th>\n",
       "      <th>text<\/th>\n",
       "      <th>target<\/th>\n",
       "    <\/tr>\n",
       "  <\/thead>\n",
       "  <tbody>\n",
       "    <tr>\n",
       "      <th>0<\/th>\n",
       "      <td>1<\/td>\n",
       "      <td>NaN<\/td>\n",
       "      <td>NaN<\/td>\n",
       "      <td>Our Deeds are the Reason of this #earthquake M...<\/td>\n",
       "      <td>1<\/td>\n",
       "    <\/tr>\n",
       "    <tr>\n",
       "      <th>1<\/th>\n",
       "      <td>4<\/td>\n",
       "      <td>NaN<\/td>\n",
       "      <td>NaN<\/td>\n",
       "      <td>Forest fire near La Ronge Sask. Canada<\/td>\n",
       "      <td>1<\/td>\n",
       "    <\/tr>\n",
       "    <tr>\n",
       "      <th>2<\/th>\n",
       "      <td>5<\/td>\n",
       "      <td>NaN<\/td>\n",
       "      <td>NaN<\/td>\n",
       "      <td>All residents asked to 'shelter in place' are ...<\/td>\n",
       "      <td>1<\/td>\n",
       "    <\/tr>\n",
       "    <tr>\n",
       "      <th>3<\/th>\n",
       "      <td>6<\/td>\n",
       "      <td>NaN<\/td>\n",
       "      <td>NaN<\/td>\n",
       "      <td>13,000 people receive #wildfires evacuation or...<\/td>\n",
       "      <td>1<\/td>\n",
       "    <\/tr>\n",
       "    <tr>\n",
       "      <th>4<\/th>\n",
       "      <td>7<\/td>\n",
       "      <td>NaN<\/td>\n",
       "      <td>NaN<\/td>\n",
       "      <td>Just got sent this photo from Ruby #Alaska as ...<\/td>\n",
       "      <td>1<\/td>\n",
       "    <\/tr>\n",
       "  <\/tbody>\n",
       "<\/table>\n",
       "<\/div>"
      ]
     },
     "metadata":{
      
     },
     "output_type":"display_data"
    }
   ],
   "metadata":{
    "datalore":{
     "node_id":"GvTMnNv11lFQPs01Dg2wDz",
     "type":"CODE",
     "hide_input_from_viewers":false,
     "hide_output_from_viewers":false,
     "report_properties":{
      "rowId":"DNT4ckeVHOvHfhnF5zXTuu"
     }
    }
   }
  },
  {
   "cell_type":"code",
   "source":[
    "from sklearn.model_selection import train_test_split\n",
    "\n",
    "train, test = train_test_split(data, test_size=0.3, random_state=42)"
   ],
   "execution_count":84,
   "outputs":[
    
   ],
   "metadata":{
    "datalore":{
     "node_id":"oIKFIhS5RIYfOjLgF9MJKz",
     "type":"CODE",
     "hide_input_from_viewers":false,
     "hide_output_from_viewers":false,
     "report_properties":{
      "rowId":"jNwUgnMYKNmaG6IUwNinAu"
     }
    }
   }
  },
  {
   "cell_type":"markdown",
   "source":[
    "## Задание 1 (0.5 балла)\n",
    "\n",
    "Выведете на экран информацию о пропусках в данных. Если пропуски присутствуют заполните их пустой строкой."
   ],
   "attachments":{
    
   },
   "metadata":{
    "datalore":{
     "node_id":"z4xj2xpE88K955pXPRtb8u",
     "type":"MD",
     "hide_input_from_viewers":false,
     "hide_output_from_viewers":false,
     "report_properties":{
      "rowId":"EtHXlVpvhDRXVuTK4qfY4k"
     }
    }
   }
  },
  {
   "cell_type":"code",
   "source":[
    "# -- YOUR CODE HERE --\n",
    "data.isnull().sum()"
   ],
   "execution_count":85,
   "outputs":[
    {
     "data":{
      "text\/html":[
       "<pre>id             0\n",
       "keyword       61\n",
       "location    2533\n",
       "text           0\n",
       "target         0\n",
       "dtype: int64<\/pre>"
      ]
     },
     "metadata":{
      
     },
     "output_type":"display_data"
    }
   ],
   "metadata":{
    "datalore":{
     "node_id":"iSjoI4kC0yb8xEsmXtvl0y",
     "type":"CODE",
     "hide_input_from_viewers":false,
     "hide_output_from_viewers":false,
     "report_properties":{
      "rowId":"DAYoEDx5S2RNATphZXDX7H"
     }
    }
   }
  },
  {
   "cell_type":"markdown",
   "source":[
    "Видим, что в данных есть пропуски, а именно по значениям `key` и `location`, заменим их на пустую строку для трейна и теста."
   ],
   "attachments":{
    
   },
   "metadata":{
    "datalore":{
     "node_id":"4hIW8Kr0VB3RnYckfOJ3SC",
     "type":"MD",
     "hide_input_from_viewers":true,
     "hide_output_from_viewers":true
    }
   }
  },
  {
   "cell_type":"code",
   "source":[
    "train = train.fillna('')\n",
    "test = test.fillna('')"
   ],
   "execution_count":86,
   "outputs":[
    
   ],
   "metadata":{
    "datalore":{
     "node_id":"vavV9QHdEBdR05ADafp1Wy",
     "type":"CODE",
     "hide_input_from_viewers":true,
     "hide_output_from_viewers":true
    }
   }
  },
  {
   "cell_type":"markdown",
   "source":[
    "Проверим теперь данные на наличие пустых значений"
   ],
   "attachments":{
    
   },
   "metadata":{
    "datalore":{
     "node_id":"vHXctNhrlcPwxb8dnKhzeR",
     "type":"MD",
     "hide_input_from_viewers":true,
     "hide_output_from_viewers":true
    }
   }
  },
  {
   "cell_type":"code",
   "source":[
    "train.isna().sum()"
   ],
   "execution_count":87,
   "outputs":[
    {
     "data":{
      "text\/html":[
       "<pre>id          0\n",
       "keyword     0\n",
       "location    0\n",
       "text        0\n",
       "target      0\n",
       "dtype: int64<\/pre>"
      ]
     },
     "metadata":{
      
     },
     "output_type":"display_data"
    }
   ],
   "metadata":{
    "datalore":{
     "node_id":"zYWoZqnDdadAI9uZyaIrhR",
     "type":"CODE",
     "hide_input_from_viewers":true,
     "hide_output_from_viewers":true
    }
   }
  },
  {
   "cell_type":"code",
   "source":[
    "\n",
    "test.isna().sum()"
   ],
   "execution_count":88,
   "outputs":[
    {
     "data":{
      "text\/html":[
       "<pre>id          0\n",
       "keyword     0\n",
       "location    0\n",
       "text        0\n",
       "target      0\n",
       "dtype: int64<\/pre>"
      ]
     },
     "metadata":{
      
     },
     "output_type":"display_data"
    }
   ],
   "metadata":{
    "datalore":{
     "node_id":"pA06miQKwLt5H1YRudvSkX",
     "type":"CODE",
     "hide_input_from_viewers":true,
     "hide_output_from_viewers":true
    }
   }
  },
  {
   "cell_type":"markdown",
   "source":[
    "Пустых значений теперь нет"
   ],
   "attachments":{
    
   },
   "metadata":{
    "datalore":{
     "node_id":"7kmqUwJyoOgVaUqBZJluQ9",
     "type":"MD",
     "hide_input_from_viewers":true,
     "hide_output_from_viewers":true
    }
   }
  },
  {
   "cell_type":"markdown",
   "source":[
    "## Задание 2 (1 балл)\n",
    "Давайте немного посмотрим на наши данные. Визуализируйте (где явно просят) или выведете информацию о следующем:\n",
    "\n",
    "1. Какое распределение классов в обучающей выборке?"
   ],
   "attachments":{
    
   },
   "metadata":{
    "datalore":{
     "node_id":"JJbmxv4Cwz3oSMkCqpIN0B",
     "type":"MD",
     "hide_input_from_viewers":false,
     "hide_output_from_viewers":false,
     "report_properties":{
      "rowId":"BhWkQzrBOaPlGymHMPfwnV"
     }
    }
   }
  },
  {
   "cell_type":"code",
   "source":[
    "# -- YOUR CODE HERE --\n",
    "inf = train['target'].value_counts()\n",
    "print(f'Первого класса (0) в выборке {round(inf[0]\/inf.sum()*100, 2)}%')\n",
    "print(f'Второго класса (1) в выборке {round(inf[1]\/inf.sum()*100, 2)}%')\n",
    "inf"
   ],
   "execution_count":89,
   "outputs":[
    {
     "name":"stdout",
     "text":[
      "Первого класса (0) в выборке 56.75%\n",
      "Второго класса (1) в выборке 43.25%\n"
     ],
     "output_type":"stream"
    },
    {
     "data":{
      "text\/html":[
       "<pre>0    3024\n",
       "1    2305\n",
       "Name: target, dtype: int64<\/pre>"
      ]
     },
     "metadata":{
      
     },
     "output_type":"display_data"
    }
   ],
   "metadata":{
    "datalore":{
     "node_id":"xDVS97NUm1ns8CFoChz4lP",
     "type":"CODE",
     "hide_input_from_viewers":false,
     "hide_output_from_viewers":false,
     "report_properties":{
      "rowId":"YhDp7G7WHu9OXYRczSWdZt"
     }
    }
   }
  },
  {
   "cell_type":"markdown",
   "source":[
    "Довольно хорошее соотношение классов в обучающей выборке, каждого класса примерно 40-50%,то есть сбалансированное соотношение классов."
   ],
   "attachments":{
    
   },
   "metadata":{
    "datalore":{
     "node_id":"vwPNFyeCLykfOIxyzJBOnZ",
     "type":"MD",
     "hide_input_from_viewers":true,
     "hide_output_from_viewers":true
    }
   }
  },
  {
   "cell_type":"markdown",
   "source":[
    "2. Посмотрите на колонку \"keyword\" - возьмите 10 наиболее встречающихся значений, постройте ступенчатую диаграмму распределения классов в зависимости от значения keyword, сделайте выводы."
   ],
   "attachments":{
    
   },
   "metadata":{
    "datalore":{
     "node_id":"qLpIcJ6h07v3fnSGnroYli",
     "type":"MD",
     "hide_input_from_viewers":false,
     "hide_output_from_viewers":false,
     "report_properties":{
      "rowId":"lK5nexLPI1H5HIKs8lTPuM"
     }
    }
   }
  },
  {
   "cell_type":"code",
   "source":[
    "frequency = train['keyword'].value_counts() # Возвращает отсортированные в порядке убывания частоты встречаемости значений\n",
    "names = frequency.index\n",
    "popular_keywords = names[1:11] # 0-ое значение это пустая строка, его не берем в расчет\n",
    "print(*list(popular_keywords), sep = \",\")"
   ],
   "execution_count":90,
   "outputs":[
    {
     "name":"stdout",
     "text":[
      "damage,siren,wreckage,fatalities,deluge,refugees,derail,fear,tsunami,fatality\n"
     ],
     "output_type":"stream"
    }
   ],
   "metadata":{
    "datalore":{
     "node_id":"ft14BLKouohnMpas8MA6tk",
     "type":"CODE",
     "hide_input_from_viewers":false,
     "hide_output_from_viewers":false,
     "report_properties":{
      "rowId":"zecqrRKQRCtIgExsRpTWbk"
     }
    }
   }
  },
  {
   "cell_type":"code",
   "source":[
    "# -- YOUR CODE HERE --\n",
    "freq_words_0 = train.groupby('target')['keyword'].value_counts()[0]   # слово-частота для 0 класса\n",
    "freq_words_1 = train.groupby('target')['keyword'].value_counts()[1]   # слово-частота для 1 класса\n",
    "p = []\n",
    "f = []\n",
    "for el in popular_keywords:\n",
    "    if el in freq_words_0.index:\n",
    "        p.append(freq_words_0[el])  # Из фрейма слово-частота выбираем нужные нам слова из списка популярных слов для 0 класса\n",
    "    else:\n",
    "        p.append(0)\n",
    "    if el in freq_words_1.index:\n",
    "        f.append(freq_words_1[el])  # Делаем то же самое для 1 класса\n",
    "    else:\n",
    "        f.append(0)\n",
    "\n",
    "plt.figure(figsize=(10, 5))\n",
    "plt.bar(popular_keywords, p, width = 1, alpha = 0.4, edgecolor = 'blue')\n",
    "plt.bar(popular_keywords, f, width = 1, alpha = 0.4, edgecolor = 'orange')\n",
    "plt.xticks(range(10), popular_keywords, fontsize = 10)\n",
    "plt.xlabel(\"keyword\", fontsize = 13)\n",
    "plt.ylabel(\"count\", fontsize = 13)\n",
    "plt.title(\"Частота встречаемости популярных слов в тренировочной выборке по классам\", fontsize = 13)\n",
    "plt.legend(train['target'], loc = 1)\n",
    "plt.show()"
   ],
   "execution_count":91,
   "outputs":[
    {
     "data":{
      "image\/png":"[encoded data removed]"
     },
     "metadata":{
      "image\/png":{
       
      }
     },
     "output_type":"display_data"
    }
   ],
   "metadata":{
    "datalore":{
     "node_id":"HAGdm8cfjiEZCTXlpO0F7Y",
     "type":"CODE",
     "hide_input_from_viewers":false,
     "hide_output_from_viewers":false,
     "report_properties":{
      "rowId":"dGoVRl1m1uvilNNsAa0hVT"
     }
    }
   }
  },
  {
   "cell_type":"markdown",
   "source":[
    "**Выводы**: Видим, что для первого класса больше всего встречается слово `wreckage`, `refugees`, прилагательные, характеризующие какие-то аварии и разрушения. Для второго класса же больше всего встречается слово `siren`, `deluge`, `fear`, `tsunami`, `fatality`, все, что связано со страхом, стихийными бедствиями, катастрофами. У двух классов примерно одинаковая частота встречаемости слов `derail`, `damage`, `fatalities`. Эти особенности и определяют метки классов."
   ],
   "attachments":{
    
   },
   "metadata":{
    "datalore":{
     "node_id":"JA6qHmfsYyQfLfQtOJTQCO",
     "type":"MD",
     "hide_input_from_viewers":false,
     "hide_output_from_viewers":false,
     "report_properties":{
      "rowId":"fTAp7GfJFgz3tL8GAKpMEM"
     }
    }
   }
  },
  {
   "cell_type":"markdown",
   "source":[
    "## Задание 3 (0.5 балла) \n",
    "\n",
    "В этом задании предлагается объединить все три текстовых столбца в один (просто сконкатенировать cтроки) и убрать столбец с индексом."
   ],
   "attachments":{
    
   },
   "metadata":{
    "datalore":{
     "node_id":"3qsiZ6yQjwrZACIk0AD1Xj",
     "type":"MD",
     "hide_input_from_viewers":false,
     "hide_output_from_viewers":false,
     "report_properties":{
      "rowId":"KcDEt6hKeVico8kinNV31K"
     }
    }
   }
  },
  {
   "cell_type":"code",
   "source":[
    "train.loc[[6590, 7122, 2769]]"
   ],
   "execution_count":92,
   "outputs":[
    {
     "data":{
      "text\/html":[
       "<div>\n",
       "<style scoped>\n",
       "    .dataframe tbody tr th:only-of-type {\n",
       "        vertical-align: middle;\n",
       "    }\n",
       "\n",
       "    .dataframe tbody tr th {\n",
       "        vertical-align: top;\n",
       "    }\n",
       "\n",
       "    .dataframe thead th {\n",
       "        text-align: right;\n",
       "    }\n",
       "<\/style>\n",
       "<table border=\"1\" class=\"dataframe\">\n",
       "  <thead>\n",
       "    <tr style=\"text-align: right;\">\n",
       "      <th><\/th>\n",
       "      <th>id<\/th>\n",
       "      <th>keyword<\/th>\n",
       "      <th>location<\/th>\n",
       "      <th>text<\/th>\n",
       "      <th>target<\/th>\n",
       "    <\/tr>\n",
       "  <\/thead>\n",
       "  <tbody>\n",
       "    <tr>\n",
       "      <th>6590<\/th>\n",
       "      <td>9436<\/td>\n",
       "      <td>survivors<\/td>\n",
       "      <td>Marietta, GA<\/td>\n",
       "      <td>Stemming from my #Cubs talk- the team rosters ...<\/td>\n",
       "      <td>1<\/td>\n",
       "    <\/tr>\n",
       "    <tr>\n",
       "      <th>7122<\/th>\n",
       "      <td>10203<\/td>\n",
       "      <td>violent%20storm<\/td>\n",
       "      <td><\/td>\n",
       "      <td>If you were the NWS wth a rotating storm w\/ a ...<\/td>\n",
       "      <td>1<\/td>\n",
       "    <\/tr>\n",
       "    <tr>\n",
       "      <th>2769<\/th>\n",
       "      <td>3980<\/td>\n",
       "      <td>devastation<\/td>\n",
       "      <td>Atlanta g.a.<\/td>\n",
       "      <td>http:\/\/t.co\/Gxgm1T3W0J From Devastation to Ela...<\/td>\n",
       "      <td>0<\/td>\n",
       "    <\/tr>\n",
       "  <\/tbody>\n",
       "<\/table>\n",
       "<\/div>"
      ]
     },
     "metadata":{
      
     },
     "output_type":"display_data"
    }
   ],
   "metadata":{
    "datalore":{
     "node_id":"1xEHz2eYRLcDeYySBmOyxa",
     "type":"CODE",
     "hide_input_from_viewers":false,
     "hide_output_from_viewers":false,
     "report_properties":{
      "rowId":"vAEGbP4aHniIylO88pwywc"
     }
    }
   }
  },
  {
   "cell_type":"code",
   "source":[
    "# -- YOUR CODE HERE --"
   ],
   "execution_count":93,
   "outputs":[
    
   ],
   "metadata":{
    "datalore":{
     "node_id":"cGGbjZiHo9QN9NJrZiGFTZ",
     "type":"CODE",
     "hide_input_from_viewers":false,
     "hide_output_from_viewers":false,
     "report_properties":{
      "rowId":"nTlrCxvHtkef7oq37OV5tu"
     }
    }
   }
  },
  {
   "cell_type":"code",
   "source":[
    "train['text'] = train[['keyword', 'location', 'text']].agg(' '. join, axis = 1)   # заменили столбец text слепленными тремя колонками\n",
    "train_new = train[[\"text\", \"target\"]]\n",
    "train_new.loc[[6590, 7122, 2769]]"
   ],
   "execution_count":94,
   "outputs":[
    {
     "data":{
      "text\/html":[
       "<div>\n",
       "<style scoped>\n",
       "    .dataframe tbody tr th:only-of-type {\n",
       "        vertical-align: middle;\n",
       "    }\n",
       "\n",
       "    .dataframe tbody tr th {\n",
       "        vertical-align: top;\n",
       "    }\n",
       "\n",
       "    .dataframe thead th {\n",
       "        text-align: right;\n",
       "    }\n",
       "<\/style>\n",
       "<table border=\"1\" class=\"dataframe\">\n",
       "  <thead>\n",
       "    <tr style=\"text-align: right;\">\n",
       "      <th><\/th>\n",
       "      <th>text<\/th>\n",
       "      <th>target<\/th>\n",
       "    <\/tr>\n",
       "  <\/thead>\n",
       "  <tbody>\n",
       "    <tr>\n",
       "      <th>6590<\/th>\n",
       "      <td>survivors Marietta, GA Stemming from my #Cubs ...<\/td>\n",
       "      <td>1<\/td>\n",
       "    <\/tr>\n",
       "    <tr>\n",
       "      <th>7122<\/th>\n",
       "      <td>violent%20storm  If you were the NWS wth a rot...<\/td>\n",
       "      <td>1<\/td>\n",
       "    <\/tr>\n",
       "    <tr>\n",
       "      <th>2769<\/th>\n",
       "      <td>devastation Atlanta g.a. http:\/\/t.co\/Gxgm1T3W0...<\/td>\n",
       "      <td>0<\/td>\n",
       "    <\/tr>\n",
       "  <\/tbody>\n",
       "<\/table>\n",
       "<\/div>"
      ]
     },
     "metadata":{
      
     },
     "output_type":"display_data"
    }
   ],
   "metadata":{
    "datalore":{
     "node_id":"VbGwvZTXdaqTjG9iSmTBZy",
     "type":"CODE",
     "hide_input_from_viewers":false,
     "hide_output_from_viewers":false,
     "report_properties":{
      "rowId":"NgYSxSt2ErRJmU9Whr6RuU"
     }
    }
   }
  },
  {
   "cell_type":"code",
   "source":[
    "test['text'] = test[['keyword', 'location', 'text']].agg(' '. join, axis = 1)    # То же самое для теста\n",
    "test_new = test[[\"text\", \"target\"]]"
   ],
   "execution_count":95,
   "outputs":[
    
   ],
   "metadata":{
    "datalore":{
     "node_id":"AoLTKEDw5b3lrZ4DIAJrG2",
     "type":"CODE",
     "hide_input_from_viewers":true,
     "hide_output_from_viewers":true
    }
   }
  },
  {
   "cell_type":"markdown",
   "source":[
    "## Задание 4 (0.5 балла)\n",
    "\n",
    "Далее мы будем пока работать только с train частью.\n",
    "\n",
    "1. Предобработайте данные (train часть) с помощью CountVectorizer.\n",
    "2. Какого размера получилась матрица?"
   ],
   "attachments":{
    
   },
   "metadata":{
    "datalore":{
     "node_id":"LgPgtCqp6EW9LRI3nCl2YQ",
     "type":"MD",
     "hide_input_from_viewers":false,
     "hide_output_from_viewers":false,
     "report_properties":{
      "rowId":"ozBKbV7q0CyXS06pvePnCX"
     }
    }
   }
  },
  {
   "cell_type":"code",
   "source":[
    "from sklearn.feature_extraction.text import CountVectorizer\n",
    "\n",
    "# -- YOUR CODE HERE --\n",
    "cnt_vec = CountVectorizer()\n",
    "X = cnt_vec.fit_transform(train[\"text\"])\n",
    "X = pd.DataFrame(X.toarray(), columns=cnt_vec.get_feature_names_out())\n",
    "print(f'Размер матрицы: {X.shape}')"
   ],
   "execution_count":96,
   "outputs":[
    {
     "name":"stdout",
     "text":[
      "Размер матрицы: (5329, 18455)\n"
     ],
     "output_type":"stream"
    }
   ],
   "metadata":{
    "datalore":{
     "node_id":"Z5UEINSmrE8x5HJIiw5Avj",
     "type":"CODE",
     "hide_input_from_viewers":false,
     "hide_output_from_viewers":false,
     "report_properties":{
      "rowId":"0r6BOemlC2DoZfgIEyDZ17"
     }
    }
   }
  },
  {
   "cell_type":"markdown",
   "source":[
    "Получилась довольно большая матрица"
   ],
   "attachments":{
    
   },
   "metadata":{
    "datalore":{
     "node_id":"GeKaMReK27lq3rYZfKD5JL",
     "type":"MD",
     "hide_input_from_viewers":true,
     "hide_output_from_viewers":true
    }
   }
  },
  {
   "cell_type":"markdown",
   "source":[
    "## Задание 5 (1 балл)\n",
    "\n",
    "В предыдущем пункте у вас должна была получиться достаточно большая матрица.\n",
    "Если вы взгляните на текст, то увидете, что там есть множество специальных символов, ссылок и прочего мусора.\n",
    "\n",
    "Давайте также посмотрим на словарь, который получился в результате построения CountVectorizer, его можно найти в поле vocabulary_ инстанса этого класса. Давайте напишем функцию, которая печает ответы на следующие вопросы:\n",
    "\n",
    "1. Найдите в этом словаре все слова, которые содержат цифры. Сколько таких слов нашлось?\n",
    "\n",
    "2. Найдите все слова, которые содержат символы пунктуации. Сколько таких слов нашлось? \n",
    "\n",
    "3. Сколько хэштегов (токен начинается на #) и упоминаний (токен начинается на @) осталось в словаре?"
   ],
   "attachments":{
    
   },
   "metadata":{
    "datalore":{
     "node_id":"cLM0EvmxauhjbrA0ATUg5b",
     "type":"MD",
     "hide_input_from_viewers":false,
     "hide_output_from_viewers":false,
     "report_properties":{
      "rowId":"dp74f8alAGHuvfVnVlP1hN"
     }
    }
   }
  },
  {
   "cell_type":"code",
   "source":[
    "word_freq = cnt_vec.vocabulary_   # Словарь с частотами встречаемости слов в текстах\n",
    "word_freq"
   ],
   "execution_count":116,
   "outputs":[
    {
     "data":{
      "text\/plain":[
       "{'bridge': 5275,\n",
       " '%': 1472,\n",
       " '20collapse': 1800,\n",
       " 'ashes': 4530,\n",
       " '2015': 1773,\n",
       " ':': 2229,\n",
       " 'australia': 4628,\n",
       " '\\x89': 19587,\n",
       " 'ûªs': 19640,\n",
       " 'collapse': 6032,\n",
       " 'at': 4567,\n",
       " 'trent': 18450,\n",
       " 'among': 4300,\n",
       " 'worst': 19368,\n",
       " 'in': 12552,\n",
       " 'history': 8949,\n",
       " 'england': 7415,\n",
       " 'bundled': 5388,\n",
       " 'out': 14999,\n",
       " 'for': 8041,\n",
       " '60': 2077,\n",
       " '...': 1512,\n",
       " 'http:\/\/t.co\/t5trhjuau0': 11456,\n",
       " 'hail': 8661,\n",
       " 'carol': 5600,\n",
       " 'stream': 17648,\n",
       " ',': 1483,\n",
       " 'illinois': 12503,\n",
       " 'great': 8518,\n",
       " 'michigan': 14071,\n",
       " 'technique': 18025,\n",
       " 'camp': 5510,\n",
       " 'b1g': 4691,\n",
       " 'thanks': 18124,\n",
       " 'to': 18284,\n",
       " '@bmurph1019': 2490,\n",
       " '@hail_youtsey': 2905,\n",
       " '.': 1509,\n",
       " '@termn8r13': 3718,\n",
       " '#goblue': 520,\n",
       " '#wrestleon': 1442,\n",
       " 'http:\/\/t.co\/oaskgki6qj': 10996,\n",
       " 'police': 15494,\n",
       " 'houston': 9082,\n",
       " 'cnn': 5982,\n",
       " 'tennessee': 18063,\n",
       " 'movie': 14348,\n",
       " 'theater': 18131,\n",
       " 'shooting': 17007,\n",
       " 'suspect': 17851,\n",
       " 'killed': 13124,\n",
       " 'by': 5442,\n",
       " 'http:\/\/t.co\/di8elzswnr': 9897,\n",
       " 'rioting': 16377,\n",
       " 'still': 17597,\n",
       " 'a': 3943,\n",
       " 'couple': 6306,\n",
       " 'of': 14802,\n",
       " 'hours': 9074,\n",
       " 'left': 13382,\n",
       " 'until': 18712,\n",
       " 'i': 12430,\n",
       " 'have': 8772,\n",
       " 'be': 4854,\n",
       " 'up': 18717,\n",
       " 'class': 5919,\n",
       " 'wounds': 19377,\n",
       " 'lake': 13258,\n",
       " 'highlands': 8904,\n",
       " 'crack': 6334,\n",
       " 'the': 18130,\n",
       " 'path': 15180,\n",
       " 'where': 19178,\n",
       " 'wiped': 19266,\n",
       " 'this': 18176,\n",
       " 'morning': 14299,\n",
       " 'during': 7173,\n",
       " 'beach': 4856,\n",
       " 'run': 16541,\n",
       " 'surface': 17827,\n",
       " 'on': 14880,\n",
       " 'elbow': 7295,\n",
       " 'and': 4316,\n",
       " 'right': 16363,\n",
       " 'knee': 13166,\n",
       " 'http:\/\/t.co\/yaqrsximph': 11920,\n",
       " 'airplane': 4169,\n",
       " '20accident': 1790,\n",
       " 'somewhere': 17326,\n",
       " 'there': 18148,\n",
       " 'experts': 7623,\n",
       " 'france': 8109,\n",
       " 'begin': 4901,\n",
       " 'examining': 7574,\n",
       " 'debris': 6606,\n",
       " 'found': 8088,\n",
       " 'reunion': 16308,\n",
       " 'island': 12793,\n",
       " 'french': 8143,\n",
       " 'air': 4162,\n",
       " 'accident': 4001,\n",
       " 'http:\/\/t.co\/tagzbcxfj0': 11464,\n",
       " '#mlb': 790,\n",
       " 'bloody': 5107,\n",
       " 'isolated': 12803,\n",
       " 'city': 5897,\n",
       " 'world': 19351,\n",
       " 'perth': 15298,\n",
       " \"'\": 1474,\n",
       " 'came': 5506,\n",
       " 'kill': 13121,\n",
       " 'indians': 12593,\n",
       " 'fun': 8206,\n",
       " 'video': 18883,\n",
       " 'smirking': 17235,\n",
       " 'remorseless': 16189,\n",
       " 'pakistani': 15087,\n",
       " 'killer': 13125,\n",
       " 'shows': 17039,\n",
       " 'him': 8924,\n",
       " 'boasting': 5134,\n",
       " 'http:\/\/t.co\/fpjlwoxklg': 10116,\n",
       " 'burning': 5401,\n",
       " '@johnsontionne': 3065,\n",
       " 'except': 7579,\n",
       " 'idk': 12469,\n",
       " 'them': 18138,\n",
       " '?': 2253,\n",
       " \"it's\": 12815,\n",
       " 'really': 16039,\n",
       " 'destroy': 6774,\n",
       " 'he': 8787,\n",
       " '\/': 1513,\n",
       " 'or': 14945,\n",
       " 'she': 16955,\n",
       " 'her': 8868,\n",
       " '(': 1475,\n",
       " 'ask': 4540,\n",
       " ')': 1479,\n",
       " 'house': 9075,\n",
       " 'wounded': 19376,\n",
       " 'maracay': 13830,\n",
       " 'y': 19456,\n",
       " 'nirgua': 14601,\n",
       " 'venezuela': 18836,\n",
       " 'officer': 14815,\n",
       " 'dead': 6585,\n",
       " 'after': 4118,\n",
       " 'exchanging': 7583,\n",
       " 'shots': 17020,\n",
       " 'http:\/\/t.co\/xxfk4khbiw': 11888,\n",
       " 'wreck': 19389,\n",
       " 'currently': 6468,\n",
       " 'writing': 19400,\n",
       " 'book': 5169,\n",
       " \"i'm\": 12433,\n",
       " 'friggin': 8166,\n",
       " 'destiel': 6770,\n",
       " 'sucks': 17740,\n",
       " 'read': 16023,\n",
       " 'vine': 18898,\n",
       " 'description': 6750,\n",
       " 'https:\/\/t.co\/mkx6ux4ozt': 12210,\n",
       " 'mudslide': 14369,\n",
       " 'malibu': 13790,\n",
       " 'santafe': 16653,\n",
       " 'winning': 19260,\n",
       " '!': 0,\n",
       " 'sterling-scott': 17584,\n",
       " 'red': 16089,\n",
       " 'carpet': 5604,\n",
       " 'fundraiser': 8209,\n",
       " 'oso': 14982,\n",
       " 'https:\/\/t.co\/ma4ra7atql': 12206,\n",
       " 'http:\/\/t.co\/cg579wldne': 9795,\n",
       " 'casualties': 5637,\n",
       " 'canadian': 5533,\n",
       " 'bread': 5251,\n",
       " '@libertarianluke': 3178,\n",
       " 'all': 4223,\n",
       " 'that': 18125,\n",
       " 'honest': 9014,\n",
       " 'if': 12473,\n",
       " 'people': 15261,\n",
       " 'want': 19012,\n",
       " 'go': 8419,\n",
       " 'rampage': 15958,\n",
       " 'let': 13425,\n",
       " 'use': 18761,\n",
       " 'their': 18136,\n",
       " 'own': 15049,\n",
       " 'hands': 8699,\n",
       " 'feet': 7803,\n",
       " 'no': 14613,\n",
       " 'ambulance': 4282,\n",
       " 'amsterdam': 4305,\n",
       " 'http:\/\/t.co\/7xglah10zl': 9460,\n",
       " 'twelve': 18570,\n",
       " 'feared': 7783,\n",
       " 'helicopter': 8848,\n",
       " 'crash': 6347,\n",
       " 'http:\/\/t.co\/thmblaatzp': 11495,\n",
       " 'electrocuted': 7307,\n",
       " 'got': 8467,\n",
       " 'last': 13309,\n",
       " 'night': 14590,\n",
       " 'work': 19341,\n",
       " 'first': 7915,\n",
       " 'time': 18248,\n",
       " 'my': 14421,\n",
       " 'life': 13453,\n",
       " 'shit': 16993,\n",
       " 'was': 19041,\n",
       " 'weird': 19130,\n",
       " 'drown': 7116,\n",
       " 'some': 17313,\n",
       " 'older': 14864,\n",
       " 'native': 14476,\n",
       " 'australians': 4632,\n",
       " 'believe': 4924,\n",
       " 'oceans': 14791,\n",
       " 'were': 19144,\n",
       " 'created': 6362,\n",
       " 'from': 8170,\n",
       " 'urine': 18744,\n",
       " 'an': 4307,\n",
       " 'angry': 4335,\n",
       " 'god': 8426,\n",
       " 'who': 19200,\n",
       " 'tried': 18466,\n",
       " 'volcano': 18941,\n",
       " 'west': 19148,\n",
       " 'coast': 5994,\n",
       " 'cali': 5486,\n",
       " 'usa': 18753,\n",
       " 'architect': 4452,\n",
       " 'behind': 4912,\n",
       " 'kanye': 13032,\n",
       " 'https:\/\/t.co\/musbik7ejf': 12215,\n",
       " 'attack': 4583,\n",
       " 'mumbai': 14387,\n",
       " 'india': 12587,\n",
       " 'shud': 17043,\n",
       " 'not': 14667,\n",
       " 'give': 8380,\n",
       " 'any': 4379,\n",
       " 'evidence': 7563,\n",
       " '2': 1748,\n",
       " 'pak.they': 15085,\n",
       " 'will': 19230,\n",
       " 'share': 16941,\n",
       " 'with': 19278,\n",
       " 'terrorists': 18088,\n",
       " '&': 1473,\n",
       " 'next': 14562,\n",
       " 'attack.share': 4584,\n",
       " 'oth': 14986,\n",
       " 'contries': 6222,\n",
       " 'https:\/\/t.co\/qiopbtiuvu': 12254,\n",
       " 'body': 5142,\n",
       " '20bag': 1791,\n",
       " 'new': 14546,\n",
       " 'york': 19510,\n",
       " 'auth': 4634,\n",
       " 'louis': 13647,\n",
       " 'vuitton': 18959,\n",
       " 'brown': 5322,\n",
       " 'saumur': 16681,\n",
       " '35': 1924,\n",
       " 'cross': 6400,\n",
       " 'shoulder': 17023,\n",
       " 'bag': 4721,\n",
       " 'monogram': 14260,\n",
       " '7.23': 2115,\n",
       " '419-3': 1984,\n",
       " '-': 1484,\n",
       " 'full': 8202,\n",
       " 'û_': 19624,\n",
       " 'http:\/\/t.co\/hcdiwe5flc': 10292,\n",
       " 'http:\/\/t.co\/zlvebeoavg': 12032,\n",
       " 'annihilated': 4348,\n",
       " 'higher': 8900,\n",
       " 'places': 15413,\n",
       " 'episode': 7460,\n",
       " 'trunks': 18507,\n",
       " 'freiza': 8141,\n",
       " 'is': 12782,\n",
       " 'cleanest': 5925,\n",
       " 'ever': 7546,\n",
       " 'showed': 17035,\n",
       " 'nigga': 14588,\n",
       " 'mercy': 14020,\n",
       " 'cyclone': 6489,\n",
       " 'hyderabad': 12421,\n",
       " '@roughdeal1': 3544,\n",
       " 'ante': 4361,\n",
       " 'hudhud': 12359,\n",
       " 'chandrababu': 5735,\n",
       " 'valle': 18798,\n",
       " 'ne': 14500,\n",
       " 'ga': 8236,\n",
       " '65': 2095,\n",
       " '@zhenghxn': 3932,\n",
       " '11': 1614,\n",
       " 'eyes': 7663,\n",
       " 'akame': 4180,\n",
       " 'tokyo': 18301,\n",
       " 'ghoul': 8358,\n",
       " 'damn': 6521,\n",
       " 'dont': 7022,\n",
       " 'dare': 6544,\n",
       " 'watch': 19055,\n",
       " 'suicide': 17756,\n",
       " '20bombing': 1797,\n",
       " 'principality': 15675,\n",
       " 'zeron': 19562,\n",
       " '@rayquazaerk': 3498,\n",
       " 'are': 4454,\n",
       " 'christian': 5860,\n",
       " 'sure': 17822,\n",
       " 'but': 5427,\n",
       " \"don't\": 7013,\n",
       " 'bombing': 5161,\n",
       " 'employed': 7370,\n",
       " 'often': 14832,\n",
       " 'as': 4517,\n",
       " 'it': 12813,\n",
       " 'islamic': 12791,\n",
       " 'groups': 8562,\n",
       " 'demolished': 6696,\n",
       " '@jackmulholland1': 3016,\n",
       " 'think': 18169,\n",
       " 'also': 4259,\n",
       " 'became': 4878,\n",
       " 'marquis': 13863,\n",
       " 'then': 18142,\n",
       " 'carlos': 5595,\n",
       " \"charlie's\": 5760,\n",
       " 'finally': 7877,\n",
       " \"dublin's\": 7138,\n",
       " 'sadly': 16590,\n",
       " 'inundated': 12733,\n",
       " 'surf': 17826,\n",
       " 'hi': 8889,\n",
       " 'waimea': 18977,\n",
       " 'bay': 4839,\n",
       " 'like': 13473,\n",
       " 'surfers': 17828,\n",
       " 'https:\/\/t.co\/czdw8oowa2': 12134,\n",
       " 'collision': 6044,\n",
       " 'denver': 6717,\n",
       " 'colorado': 6056,\n",
       " 'motorcyclist': 14328,\n",
       " 'bicyclist': 4993,\n",
       " 'injured': 12641,\n",
       " 'broadway': 5307,\n",
       " 'http:\/\/t.co\/zl7ojdaj3u': 12028,\n",
       " 'flames': 7940,\n",
       " 'around': 4492,\n",
       " 'you': 19515,\n",
       " 'maryland': 13874,\n",
       " 'mansion': 13822,\n",
       " 'fire': 7898,\n",
       " '6': 2072,\n",
       " 'caused': 5661,\n",
       " 'damaged': 6513,\n",
       " 'plug': 15464,\n",
       " 'under': 18649,\n",
       " 'christmas': 5864,\n",
       " 'tree': 18439,\n",
       " 'report': 16221,\n",
       " 'says': 16693,\n",
       " 'into': 12727,\n",
       " 'http:\/\/t.co\/lkjfabqzb3': 10718,\n",
       " 'demolish': 6694,\n",
       " 'nyhc': 14748,\n",
       " 'going': 8433,\n",
       " \"drake's\": 7066,\n",
       " 'over': 15026,\n",
       " 'ghostwriting': 8357,\n",
       " 'should': 17021,\n",
       " 'know': 13179,\n",
       " 'rihanna': 16367,\n",
       " 'lives': 13538,\n",
       " 'door': 7024,\n",
       " 'buildings': 5370,\n",
       " '20burning': 1799,\n",
       " 'blue': 5120,\n",
       " 'yes': 19489,\n",
       " '@1acd4900c1424d1': 2259,\n",
       " '@foxnews': 2835,\n",
       " 'one': 14885,\n",
       " 'down': 7044,\n",
       " 'looting': 13623,\n",
       " 'forest': 8055,\n",
       " '20fires': 1806,\n",
       " 'nicola': 14579,\n",
       " 'valley': 18799,\n",
       " 'fires': 7911,\n",
       " 'dying': 7186,\n",
       " 'salmon': 16615,\n",
       " 'act': 4032,\n",
       " 'deny': 6718,\n",
       " 'climate': 5946,\n",
       " 'change': 5736,\n",
       " 'nightmares': 14592,\n",
       " 'here': 8869,\n",
       " 'http:\/\/t.co\/rbzomwgjee': 11288,\n",
       " '#bcpoli': 156,\n",
       " '#canpoli': 231,\n",
       " '#vanpoli': 1368,\n",
       " 'http:\/\/t.co\/ns1aggfnxz': 10946,\n",
       " '#shoes': 1142,\n",
       " 'asics': 4538,\n",
       " 'gt-ii': 8574,\n",
       " 'super': 17796,\n",
       " '2.0': 1750,\n",
       " 'ronnie': 16464,\n",
       " 'fieg': 7848,\n",
       " 'kith': 13159,\n",
       " 'white': 19195,\n",
       " '3m': 1953,\n",
       " 'x': 19428,\n",
       " 'gel': 8316,\n",
       " 'grey': 8540,\n",
       " 'http:\/\/t.co\/od250zshfy': 11004,\n",
       " 'sandstorm': 16645,\n",
       " 'airport': 4172,\n",
       " 'get': 8346,\n",
       " 'swallowed': 17862,\n",
       " 'minute': 14164,\n",
       " 'http:\/\/t.co\/wd9odwjj9l': 11751,\n",
       " '20on': 1810,\n",
       " '20fire': 1805,\n",
       " 'uk': 18621,\n",
       " '#tweetlikeitsseptember11th2001': 1336,\n",
       " 'those': 18183,\n",
       " 'two': 18580,\n",
       " 'oil': 14842,\n",
       " '20spill': 1816,\n",
       " 'ny': 14740,\n",
       " 'california': 5488,\n",
       " 'spill': 17433,\n",
       " 'might': 14099,\n",
       " 'larger': 13302,\n",
       " 'than': 18116,\n",
       " 'projected': 15717,\n",
       " 'http:\/\/t.co\/xwxbyhtuzc': 11887,\n",
       " 'http:\/\/t.co\/wzedxefblg': 11812,\n",
       " 'cartoon': 5616,\n",
       " 'bears': 4862,\n",
       " 'without': 19283,\n",
       " 'we': 19086,\n",
       " 'would': 19370,\n",
       " 'qave': 15860,\n",
       " 'knowlddge': 13181,\n",
       " 'toilet': 18299,\n",
       " 'paper': 15122,\n",
       " 'drought': 7112,\n",
       " 'miami': 14067,\n",
       " '@_gaabyx': 2286,\n",
       " 'purple': 15837,\n",
       " 'activist': 4043,\n",
       " 'thought': 18186,\n",
       " 'injuries': 12643,\n",
       " 'madison': 13743,\n",
       " 'wi': 19213,\n",
       " 'st': 17500,\n",
       " 'mo': 14215,\n",
       " '@buffoonmike': 2519,\n",
       " 'knew': 13168,\n",
       " 'doing': 6997,\n",
       " 'much': 14367,\n",
       " 'bite': 5044,\n",
       " 'us': 18749,\n",
       " 'influenced': 12628,\n",
       " 'shitty': 16997,\n",
       " 'staff': 17507,\n",
       " 'acquisitions': 4027,\n",
       " 'landslide': 13281,\n",
       " 'austin': 4627,\n",
       " 'texas': 18101,\n",
       " '@toddstarnes': 3777,\n",
       " 'enjoy': 7421,\n",
       " 'impending': 12532,\n",
       " 'todd': 18292,\n",
       " 'hehe': 8837,\n",
       " 'apocalypse': 4401,\n",
       " 'oregon': 14957,\n",
       " 'look': 13608,\n",
       " 'grizzly': 8550,\n",
       " 'peak': 15229,\n",
       " 'now': 14695,\n",
       " 'looks': 13612,\n",
       " 'beginning': 4903,\n",
       " 'dystopian': 7189,\n",
       " 'detonation': 6791,\n",
       " 'ignition': 12482,\n",
       " 'knock': 13174,\n",
       " 'sensor-senso': 16853,\n",
       " 'standard': 17520,\n",
       " 'ks100': 13211,\n",
       " 'http:\/\/t.co\/7o4lnfbe7k': 9456,\n",
       " 'http:\/\/t.co\/fvzsgjtbew': 10140,\n",
       " '20responders': 1813,\n",
       " 'week': 19120,\n",
       " 'responders': 16270,\n",
       " 'dart': 6552,\n",
       " 'members': 14000,\n",
       " 'participating': 15154,\n",
       " 'four': 8093,\n",
       " 'day': 6572,\n",
       " 'intensive': 12700,\n",
       " 'technical': 18023,\n",
       " 'large': 13301,\n",
       " 'animal': 4336,\n",
       " 'http:\/\/t.co\/tl93aod3er': 11507,\n",
       " 'military': 14113,\n",
       " 'lot': 13639,\n",
       " '20': 1759,\n",
       " 'tom': 18307,\n",
       " 'clancy': 5915,\n",
       " 'mystery': 14427,\n",
       " 'novels': 14693,\n",
       " 'paperback': 15123,\n",
       " 'http:\/\/t.co\/obix79ncxn': 10999,\n",
       " '#tomclancy': 1287,\n",
       " 'drowning': 7118,\n",
       " 'coventry': 6318,\n",
       " 'why': 19211,\n",
       " 'low': 13658,\n",
       " 'self-image': 16825,\n",
       " 'take': 17948,\n",
       " 'quiz': 15898,\n",
       " 'http:\/\/t.co\/z8r6r3nbtb': 11996,\n",
       " 'http:\/\/t.co\/namffldh5h': 10889,\n",
       " 'gonna': 8443,\n",
       " 'fight': 7856,\n",
       " 'taylor': 17999,\n",
       " 'soon': 17342,\n",
       " 'danger': 6533,\n",
       " 'hailing': 8662,\n",
       " 'dayton': 6576,\n",
       " 'wish': 19274,\n",
       " 'could': 6293,\n",
       " \"victoria's\": 18874,\n",
       " 'secret': 16787,\n",
       " 'front': 8171,\n",
       " 'good': 8444,\n",
       " 'flood': 7976,\n",
       " 'spot': 17460,\n",
       " 'combo': 6066,\n",
       " '53inch': 2045,\n",
       " '300w': 1901,\n",
       " 'curved': 6472,\n",
       " 'cree': 6371,\n",
       " 'led': 13375,\n",
       " 'light': 13463,\n",
       " 'bar': 4773,\n",
       " '4x4': 2019,\n",
       " 'offroad': 14827,\n",
       " 'fog': 8008,\n",
       " 'lamp': 13265,\n",
       " 're': 16009,\n",
       " 'http:\/\/t.co\/o097vsotxk': 10972,\n",
       " 'http:\/\/t.co\/i23xy7iejj': 10366,\n",
       " 'severe': 16901,\n",
       " 'weather': 19103,\n",
       " 'bulletin': 5377,\n",
       " '5': 2021,\n",
       " 'typhoon': 18593,\n",
       " 'ûï': 19644,\n",
       " '#hannaph': 555,\n",
       " 'û': 19623,\n",
       " '\\x9d': 19589,\n",
       " 'soudelor': 17358,\n",
       " 'tropical': 18492,\n",
       " 'warning': 19026,\n",
       " 'issued': 12808,\n",
       " '5:00': 2062,\n",
       " 'pm': 15471,\n",
       " '06': 1541,\n",
       " 'http:\/\/t.co\/thhjjw51pe': 11494,\n",
       " 'fits': 7923,\n",
       " '01-06': 1526,\n",
       " 'bmw': 5128,\n",
       " '325ci': 1916,\n",
       " '2.5': 1755,\n",
       " 'l-l': 13236,\n",
       " 'http:\/\/t.co\/gbvdnczjou': 10181,\n",
       " 'http:\/\/t.co\/c211hise0r': 9762,\n",
       " 'explosion': 7636,\n",
       " 'london': 13594,\n",
       " 'united': 18684,\n",
       " 'kingdom': 13143,\n",
       " '10': 1580,\n",
       " 'chemical': 5789,\n",
       " 'park': 15140,\n",
       " 'western': 19153,\n",
       " 'germany': 8342,\n",
       " 'http:\/\/t.co\/xbznu0qkvs': 11832,\n",
       " 'bomb': 5156,\n",
       " 'soul': 17361,\n",
       " 'food': 8027,\n",
       " 'sound': 17365,\n",
       " 'so': 17273,\n",
       " 'terrorism': 18086,\n",
       " 'truth': 18511,\n",
       " 'https:\/\/t.co\/bejftygjil': 12123,\n",
       " '#news': 846,\n",
       " '#bbc': 151,\n",
       " '#cnn': 275,\n",
       " '#islam': 649,\n",
       " '#truth': 1322,\n",
       " '#god': 521,\n",
       " '#isis': 648,\n",
       " '#terrorism': 1248,\n",
       " '#quran': 1028,\n",
       " '#lies': 725,\n",
       " 'http:\/\/t.co\/jlczidz7vu': 10514,\n",
       " 'sinking': 17117,\n",
       " '¢': 19591,\n",
       " 'your': 19526,\n",
       " 'lost': 13638,\n",
       " 'alone': 4249,\n",
       " 'stone': 17612,\n",
       " 'carry': 5609,\n",
       " 'onå': 14904,\n",
       " '¡': 19590,\n",
       " 'å': 19603,\n",
       " 'hostage': 9061,\n",
       " 'chicago': 5804,\n",
       " '@mylittlepwnies3': 3339,\n",
       " '@early__may': 2763,\n",
       " '@anathemazhiv': 2359,\n",
       " '@tonysandos': 3788,\n",
       " 'which': 19184,\n",
       " 'has': 8748,\n",
       " 'do': 6975,\n",
       " 'lebanon': 13374,\n",
       " '80s': 2164,\n",
       " 'iran': 12765,\n",
       " 'crisis': 6391,\n",
       " 'libya': 13447,\n",
       " 'pan': 15103,\n",
       " 'am': 4270,\n",
       " 'pa': 15056,\n",
       " 'pulls': 15808,\n",
       " 'gun': 8604,\n",
       " 'man': 13800,\n",
       " 'apparent': 4410,\n",
       " 'provocation': 15771,\n",
       " 'http:\/\/t.co\/lhw4vtbhzg': 10711,\n",
       " 'via': 18861,\n",
       " '@dailykos': 2657,\n",
       " 'derailment': 6737,\n",
       " 'minneapolis': 14154,\n",
       " 'mn': 14213,\n",
       " 'train': 18400,\n",
       " 'patna': 15189,\n",
       " 'news': 14556,\n",
       " 'casualty': 5638,\n",
       " 'far': 7734,\n",
       " 'indian': 12590,\n",
       " 'express': 7645,\n",
       " 'http:\/\/t.co\/yh5vetm0yz': 11938,\n",
       " 'http:\/\/t.co\/17wgug8z0m': 9154,\n",
       " 'panic': 15114,\n",
       " '#dream': 363,\n",
       " '#magic': 757,\n",
       " '#linden': 728,\n",
       " 'method': 14042,\n",
       " 'lite': 13517,\n",
       " 'version': 18850,\n",
       " '#': 1,\n",
       " '1': 1565,\n",
       " 'anxiety': 4378,\n",
       " 'cure': 6461,\n",
       " 'program': 15711,\n",
       " 'http:\/\/t.co\/073izwx0lb': 9101,\n",
       " 'lind': 13489,\n",
       " 'http:\/\/t.co\/okmlagvkjv': 11026,\n",
       " 'rescued': 16243,\n",
       " 'jammu': 12859,\n",
       " '|': 19582,\n",
       " 'kashmir': 13039,\n",
       " 'delhi': 6670,\n",
       " '18': 1701,\n",
       " 'bovines': 5207,\n",
       " '3': 1887,\n",
       " 'smugglersåênabbed': 17247,\n",
       " 'http:\/\/t.co\/e7fn5g5ruu': 9969,\n",
       " 'fredericksburg': 8125,\n",
       " 'virginia': 18912,\n",
       " '@wwp': 3896,\n",
       " 'serving': 16886,\n",
       " 'more': 14290,\n",
       " '75k': 2135,\n",
       " 'veterans': 18858,\n",
       " '52k': 2041,\n",
       " 'oif': 14841,\n",
       " 'oef': 14800,\n",
       " 'vets': 18859,\n",
       " 'physical': 15344,\n",
       " ';': 2241,\n",
       " 'many': 13825,\n",
       " 'invisible': 12747,\n",
       " 'ones': 14890,\n",
       " 'http:\/\/t.co\/shhlv4dplz': 11390,\n",
       " '#client': 272,\n",
       " 'dust': 7175,\n",
       " '20storm': 1817,\n",
       " 'learned': 13366,\n",
       " 'about': 3976,\n",
       " 'economics': 7241,\n",
       " 'south': 17374,\n",
       " 'dakota': 6505,\n",
       " 'storm': 17623,\n",
       " 'did': 6833,\n",
       " 'years': 19477,\n",
       " 'college': 6040,\n",
       " 'hubert': 12358,\n",
       " 'humphrey': 12384,\n",
       " 'wrecked': 19391,\n",
       " 'cramer': 6341,\n",
       " \"iger's\": 12478,\n",
       " 'words': 19340,\n",
       " \"disney's\": 6922,\n",
       " 'stock': 17603,\n",
       " 'http:\/\/t.co\/sf5jdnvdw9': 11385,\n",
       " '#til_now': 1280,\n",
       " '#cnbc': 274,\n",
       " 'tring': 18472,\n",
       " '@marc_holl': 3234,\n",
       " '@nennicook': 3358,\n",
       " '@aitchkaycee': 2330,\n",
       " '@vixstuart': 3847,\n",
       " '@benjbeckwith': 2457,\n",
       " 'pretty': 15656,\n",
       " '#disaster': 346,\n",
       " '#gbbo': 498,\n",
       " '#mudslide': 811,\n",
       " 'obliteration': 14773,\n",
       " 'canada': 5530,\n",
       " 'need': 14515,\n",
       " 'arcade': 4451,\n",
       " 'shooter': 17006,\n",
       " 'fix': 7928,\n",
       " 'cte': 6439,\n",
       " 'empty': 7374,\n",
       " 'only': 14897,\n",
       " 'running': 16547,\n",
       " \"i'd\": 12431,\n",
       " 'even': 7541,\n",
       " 'buy': 5438,\n",
       " 'cod': 6009,\n",
       " 'title': 18271,\n",
       " 'they': 18156,\n",
       " \"weren't\": 19146,\n",
       " 'overpriced': 15036,\n",
       " 'steam': 17570,\n",
       " 'bioterrorism': 5030,\n",
       " 'firepower': 7910,\n",
       " 'lab': 13241,\n",
       " '[': 3933,\n",
       " 'electronic': 7308,\n",
       " 'resource': 16262,\n",
       " ']': 3937,\n",
       " 'automation': 4644,\n",
       " 'against': 4126,\n",
       " 'infectious': 12619,\n",
       " 'diseases': 6911,\n",
       " 'http:\/\/t.co\/kvpbybglsr': 10650,\n",
       " '@graysondolan': 2890,\n",
       " 'u': 18603,\n",
       " 'me': 13947,\n",
       " 'explode': 7629,\n",
       " 'washington': 19046,\n",
       " 'd': 6495,\n",
       " 'c': 5448,\n",
       " 'kendall': 13068,\n",
       " 'jenner': 12903,\n",
       " 'nick': 14577,\n",
       " 'jonas': 12956,\n",
       " 'dating': 6560,\n",
       " 'quite': 15896,\n",
       " 'literally': 13518,\n",
       " 'http:\/\/t.co\/pfvzvpxqgr': 11104,\n",
       " 'always': 4269,\n",
       " 'tell': 18045,\n",
       " 'mom': 14242,\n",
       " 'bring': 5288,\n",
       " 'hold': 8976,\n",
       " 'cat': 5639,\n",
       " 'heat': 8823,\n",
       " '20wave': 1820,\n",
       " 'fort': 8076,\n",
       " 'worth': 19369,\n",
       " 'rt': 16518,\n",
       " '@startelegram': 3656,\n",
       " 'homeless': 8999,\n",
       " 'vulnerable': 18962,\n",
       " 'north': 14654,\n",
       " 'wave': 19070,\n",
       " 'http:\/\/t.co\/k9airfq3ql': 10575,\n",
       " 'http:\/\/t.co\/jdbtlymehy': 10494,\n",
       " 'nuclear': 14709,\n",
       " '20reactor': 1812,\n",
       " 'co': 5984,\n",
       " '#solar': 1174,\n",
       " 'power': 15577,\n",
       " '#japanese': 662,\n",
       " '#fukushima': 480,\n",
       " 'reactor': 16019,\n",
       " 'energy': 7406,\n",
       " 'japan': 12872,\n",
       " 'temperature': 18055,\n",
       " 'fuel': 8195,\n",
       " 'pool': 15515,\n",
       " 'http:\/\/t.co\/ys3nmwwyvc': 11970,\n",
       " 'http:\/\/t.co\/alpotnb7q3': 9612,\n",
       " 'arvada': 4516,\n",
       " 'least': 13369,\n",
       " 'taken': 17951,\n",
       " 'local': 13574,\n",
       " 'http:\/\/t.co\/wlmsq3mtho': 11773,\n",
       " 'trauma': 18423,\n",
       " 'nashville': 14466,\n",
       " 'tn': 18283,\n",
       " 'esteemed': 7510,\n",
       " 'journalist': 12967,\n",
       " 'recalls': 16058,\n",
       " 'tragic': 18396,\n",
       " 'effects': 7275,\n",
       " 'unaddressed': 18633,\n",
       " '#childhood': 260,\n",
       " '#trauma': 1302,\n",
       " '@keithboykin': 3112,\n",
       " '@randallpinkston': 3489,\n",
       " '@pozarmy': 3456,\n",
       " 'http:\/\/t.co\/gxq1auzb18': 10256,\n",
       " 'panicking': 15115,\n",
       " 'feel': 7797,\n",
       " 'results': 16291,\n",
       " 'back': 4704,\n",
       " 'alarmingly': 4195,\n",
       " 'calm': 5495,\n",
       " 'lightning': 13469,\n",
       " 'thunder': 18220,\n",
       " 'possible': 15546,\n",
       " 'pinpoint': 15379,\n",
       " 'foothill': 8040,\n",
       " 'forecast': 8048,\n",
       " 'http:\/\/t.co\/ctijdpxabk': 9834,\n",
       " 'displaced': 6932,\n",
       " '40': 1966,\n",
       " 'ocean': 14790,\n",
       " 'township': 18374,\n",
       " 'apartment': 4393,\n",
       " '#newyork': 852,\n",
       " 'http:\/\/t.co\/uelz59wvom': 11588,\n",
       " 'massacre': 13883,\n",
       " 'stay': 17561,\n",
       " 'tuned': 18540,\n",
       " ';)': 2242,\n",
       " '@freddiedeboer': 2841,\n",
       " '@thucydiplease': 3759,\n",
       " 'rise': 16387,\n",
       " 'coates': 5999,\n",
       " 'charleston': 5758,\n",
       " 'walter': 19002,\n",
       " 'scott': 16737,\n",
       " 'black': 5054,\n",
       " 'twitter': 18578,\n",
       " 'broadly': 5305,\n",
       " 'well': 19135,\n",
       " 'deaths': 6602,\n",
       " 'gallifrey': 8258,\n",
       " '@mathew_is_angry': 3249,\n",
       " '@z3ke_sk1': 3923,\n",
       " '@saladinahmed': 3563,\n",
       " 'died': 6839,\n",
       " 'horrible': 9049,\n",
       " 'trapped': 18420,\n",
       " 'ships': 16988,\n",
       " 'risk': 16390,\n",
       " '20buildings': 1798,\n",
       " 'whiterun': 19196,\n",
       " 'skyrim': 17169,\n",
       " 'destruction': 6780,\n",
       " \"magic's\": 13752,\n",
       " 'fine': 7884,\n",
       " 'just': 13005,\n",
       " 'windstorm': 19250,\n",
       " 'palm': 15095,\n",
       " 'county': 6305,\n",
       " 'fl': 7934,\n",
       " 'reality': 16034,\n",
       " 'training': 18402,\n",
       " 'falls': 7712,\n",
       " 'off': 14805,\n",
       " 'elevated': 7316,\n",
       " 'tracks': 18386,\n",
       " 'http:\/\/t.co\/jiomnrcygt': 10508,\n",
       " '#paramedic': 950,\n",
       " '#ems': 397,\n",
       " 'rescuers': 16244,\n",
       " '#world': 1434,\n",
       " 'fears': 7784,\n",
       " 'missing': 14185,\n",
       " 'migrants': 14102,\n",
       " 'med': 13964,\n",
       " 'search': 16770,\n",
       " 'survivors': 17848,\n",
       " 'boat': 5135,\n",
       " 'carrying': 5611,\n",
       " 'http:\/\/t.co\/6ds67xai5e': 9388,\n",
       " 'derailed': 6735,\n",
       " 'toronto': 18339,\n",
       " 'derailed_benchmark': 6736,\n",
       " 'cool': 6235,\n",
       " 'paths': 15184,\n",
       " 'wonder': 19321,\n",
       " 'can': 5526,\n",
       " 'find': 7881,\n",
       " 'leaks': 13364,\n",
       " 'jobs': 12939,\n",
       " 'given': 8382,\n",
       " 'resque': 16276,\n",
       " 'too': 18320,\n",
       " 'ladies': 13250,\n",
       " 'tote': 18353,\n",
       " 'handbag': 8693,\n",
       " 'women': 19314,\n",
       " 'faux': 7763,\n",
       " 'leather': 13370,\n",
       " 'fashion': 7746,\n",
       " 'purse': 15841,\n",
       " 'http:\/\/t.co\/y87gi3brlv': 11914,\n",
       " 'http:\/\/t.co\/1zbhvdcxzs': 9196,\n",
       " '@raishimi33': 3488,\n",
       " ':)': 2232,\n",
       " 'sounds': 17368,\n",
       " 'plan': 15418,\n",
       " 'little': 13522,\n",
       " 'applaud': 4416,\n",
       " 'catastrophic': 5645,\n",
       " 'buxton': 5437,\n",
       " 'venice': 18837,\n",
       " 'nottingham': 14686,\n",
       " 'invading': 12736,\n",
       " 'iraq': 12768,\n",
       " 'mistake': 14191,\n",
       " 'diplomacy': 6868,\n",
       " 'needs': 14519,\n",
       " 'replace': 16216,\n",
       " 'constant': 6193,\n",
       " 'threat': 18193,\n",
       " 'war': 19016,\n",
       " 'israel': 12805,\n",
       " 'http:\/\/t.co\/yqjpn3quux': 11965,\n",
       " 'related': 16154,\n",
       " 'isis': 12786,\n",
       " 'threatens': 18195,\n",
       " 'europe': 7528,\n",
       " 'http:\/\/t.co\/wk6b5z803o': 11770,\n",
       " 'livingston': 13542,\n",
       " 'mt': 14365,\n",
       " '@marynmck': 3247,\n",
       " \"that's\": 18127,\n",
       " 'beyond': 4979,\n",
       " 'adorable': 4074,\n",
       " 'hope': 9035,\n",
       " \"won't\": 19320,\n",
       " 'been': 4892,\n",
       " 'noticed': 14676,\n",
       " 'devastation': 6797,\n",
       " 'mount': 14332,\n",
       " 'vernon': 18847,\n",
       " 'coming': 6076,\n",
       " '@target': 3701,\n",
       " '@starbucks': 3655,\n",
       " 'closed': 5955,\n",
       " '#momneedscoffee': 795,\n",
       " '#asap': 113,\n",
       " '#iwontmakeit': 656,\n",
       " 'bombed': 5158,\n",
       " 'screwston': 16759,\n",
       " 'tx': 18586,\n",
       " 'redskins': 16107,\n",
       " 'wr': 19383,\n",
       " 'roberts': 16420,\n",
       " 'belly-bombed': 4933,\n",
       " '@teamstream': 3711,\n",
       " 'http:\/\/t.co\/gbcvvevdty': 10176,\n",
       " 'hellfire': 8852,\n",
       " '#allah': 69,\n",
       " 'describes': 6748,\n",
       " 'piling': 15370,\n",
       " '#wealth': 1402,\n",
       " ...}"
      ]
     },
     "metadata":{
      
     },
     "output_type":"display_data"
    }
   ],
   "metadata":{
    "datalore":{
     "node_id":"rDVsiTxVuhyTuP6Ii0nxAk",
     "type":"CODE",
     "hide_input_from_viewers":true,
     "hide_output_from_viewers":true
    }
   }
  },
  {
   "cell_type":"code",
   "source":[
    "import re\n",
    "import string\n",
    "def contains_digit(s: str) -> bool:\n",
    "    # Проверка, содержит ли слово цифры\n",
    "    # -- YOUR CODE HERE --\n",
    "    if re.search(r'\\d', s):\n",
    "        return True\n",
    "    else:\n",
    "        return False\n",
    "\n",
    "def contains_punctuation(s: str) -> bool:\n",
    "    # Проверка, содержит ли слово пунктуацию\n",
    "    # -- YOUR CODE HERE --\n",
    "    if any(char in string.punctuation for char in s):\n",
    "        return True\n",
    "    else:\n",
    "        return False\n",
    "\n",
    "def is_hashtag(s: str) -> bool:\n",
    "    # Проверка, является ли слово хэштегом\n",
    "    # -- YOUR CODE HERE --\n",
    "    if s[0] == \"#\":\n",
    "        return True\n",
    "    else:\n",
    "        return False\n",
    "\n",
    "def is_mention(s: str) -> bool:\n",
    "    # Проверка, является ли слово упоминанием\n",
    "    # -- YOUR CODE HERE --\n",
    "    if s[0] == \"@\":\n",
    "        return True\n",
    "    else:\n",
    "        return False\n",
    "\n",
    "def investigate_vocabulary(vocabulary):\n",
    "    # -- YOUR CODE HERE --\n",
    "    dig = map(contains_digit, vocabulary)\n",
    "    punc = map(contains_punctuation, vocabulary)\n",
    "    hashta = map(is_hashtag, vocabulary)\n",
    "    mentions = map(is_mention, vocabulary)\n",
    "    print('With digit:      ', sum(list(dig))\n",
    "          )\n",
    "    print('With punctuation:', sum(list(punc))\n",
    "          )\n",
    "    print('Hashtags:        ', sum(list(hashta))\n",
    "          )\n",
    "    print('Mentions:        ', sum(list(mentions))\n",
    "          )\n",
    "\n"
   ],
   "execution_count":98,
   "outputs":[
    
   ],
   "metadata":{
    "datalore":{
     "node_id":"HU3u2nPVp3dKZ8DGA9qUus",
     "type":"CODE",
     "hide_input_from_viewers":false,
     "hide_output_from_viewers":false,
     "report_properties":{
      "rowId":"f7jLdc0o29z8bfLQx9RfQb"
     }
    }
   }
  },
  {
   "cell_type":"code",
   "source":[
    "dummy_vocab = {'th1nk' : 0,\n",
    "               'think333' : 1,\n",
    "               'think.' : 2,\n",
    "               'th!nk' : 3,\n",
    "               'th...nk' : 4,\n",
    "               '#think' : 5,\n",
    "               '@think' : 6,\n",
    "               '@thinking':7,\n",
    "               '@nothink' : 8,\n",
    "               'think' : 9}\n",
    "investigate_vocabulary(dummy_vocab)"
   ],
   "execution_count":99,
   "outputs":[
    {
     "name":"stdout",
     "text":[
      "With digit:       2\n",
      "With punctuation: 7\n",
      "Hashtags:         1\n",
      "Mentions:         3\n"
     ],
     "output_type":"stream"
    }
   ],
   "metadata":{
    "datalore":{
     "node_id":"1RxO5wvFftIw0YJ5KxG1IJ",
     "type":"CODE",
     "hide_input_from_viewers":false,
     "hide_output_from_viewers":false,
     "report_properties":{
      "rowId":"W8vY0Gljod8WwUyp1Hcd3v"
     }
    }
   }
  },
  {
   "cell_type":"markdown",
   "source":[
    "Нашлось 2 слова, содержащих цифры, 7 слов со знаками препинания, 1 с хэштегом, 3 слова с упоминаниями."
   ],
   "attachments":{
    
   },
   "metadata":{
    "datalore":{
     "node_id":"B9MvkU4j1W5M5eJowExr24",
     "type":"MD",
     "hide_input_from_viewers":true,
     "hide_output_from_viewers":true
    }
   }
  },
  {
   "cell_type":"code",
   "source":[
    "investigate_vocabulary(word_freq)"
   ],
   "execution_count":100,
   "outputs":[
    {
     "name":"stdout",
     "text":[
      "With digit:       3812\n",
      "With punctuation: 315\n",
      "Hashtags:         0\n",
      "Mentions:         0\n"
     ],
     "output_type":"stream"
    }
   ],
   "metadata":{
    "datalore":{
     "node_id":"Rwr9ODSTL78BjcmTnob1Ir",
     "type":"CODE",
     "hide_input_from_viewers":false,
     "hide_output_from_viewers":false,
     "report_properties":{
      "rowId":"fxnIW7f3OF7fZeCJ0rK7Rc"
     }
    }
   }
  },
  {
   "cell_type":"markdown",
   "source":[
    "Получаем, что в нашем словаре нет упоминаний и хэштегов, зато 3812 раз встречаются слова с цифрами и 315 раз со знаками препинания."
   ],
   "attachments":{
    
   },
   "metadata":{
    "datalore":{
     "node_id":"9RYFQwTzoL0TFXra6Pq56N",
     "type":"MD",
     "hide_input_from_viewers":true,
     "hide_output_from_viewers":true
    }
   }
  },
  {
   "cell_type":"markdown",
   "source":[
    "## Задание 6 (0.5 балла)\n",
    "\n",
    "Вспомним, что на семинаре по текстам мы узнали, что в nltk есть специальный токенизатор для текстов - TweetTokenizer. Попробуем применить CountVectorizer с этим токенизатором. Ответьте на все вопросы из предыдущего пункта для TweetTokenizer и сравните результаты."
   ],
   "attachments":{
    
   },
   "metadata":{
    "datalore":{
     "node_id":"Aoati3SNcfzn3ynGdtfWdX",
     "type":"MD",
     "hide_input_from_viewers":false,
     "hide_output_from_viewers":false,
     "report_properties":{
      "rowId":"o6I8HZzGIfiQUdXZ3qM1Iq"
     }
    }
   }
  },
  {
   "cell_type":"code",
   "source":[
    "from nltk.tokenize import TweetTokenizer\n",
    "# Чтобы узнать, какие параметры есть у этого токенайзера - используйте help(TweetTokenizer)\n",
    "# Для того, чтобы передать токенайзер в CountVectorizer используйте параметр tokenizer\n",
    "help(TweetTokenizer)"
   ],
   "execution_count":101,
   "outputs":[
    {
     "name":"stdout",
     "text":[
      "Help on class TweetTokenizer in module nltk.tokenize.casual:\n",
      "\n",
      "class TweetTokenizer(nltk.tokenize.api.TokenizerI)\n",
      " |  TweetTokenizer(preserve_case=True, reduce_len=False, strip_handles=False, match_phone_numbers=True)\n",
      " |  \n",
      " |  Tokenizer for tweets.\n",
      " |  \n",
      " |      >>> from nltk.tokenize import TweetTokenizer\n",
      " |      >>> tknzr = TweetTokenizer()\n",
      " |      >>> s0 = \"This is a cooool #dummysmiley: :-) :-P <3 and some arrows < > -> <--\"\n",
      " |      >>> tknzr.tokenize(s0) # doctest: +NORMALIZE_WHITESPACE\n",
      " |      ['This', 'is', 'a', 'cooool', '#dummysmiley', ':', ':-)', ':-P', '<3', 'and', 'some', 'arrows', '<', '>', '->',\n",
      " |       '<--']\n",
      " |  \n",
      " |  Examples using `strip_handles` and `reduce_len parameters`:\n",
      " |  \n",
      " |      >>> tknzr = TweetTokenizer(strip_handles=True, reduce_len=True)\n",
      " |      >>> s1 = '@remy: This is waaaaayyyy too much for you!!!!!!'\n",
      " |      >>> tknzr.tokenize(s1)\n",
      " |      [':', 'This', 'is', 'waaayyy', 'too', 'much', 'for', 'you', '!', '!', '!']\n",
      " |  \n",
      " |  Method resolution order:\n",
      " |      TweetTokenizer\n",
      " |      nltk.tokenize.api.TokenizerI\n",
      " |      abc.ABC\n",
      " |      builtins.object\n",
      " |  \n",
      " |  Methods defined here:\n",
      " |  \n",
      " |  __init__(self, preserve_case=True, reduce_len=False, strip_handles=False, match_phone_numbers=True)\n",
      " |      Create a `TweetTokenizer` instance with settings for use in the `tokenize` method.\n",
      " |      \n",
      " |      :param preserve_case: Flag indicating whether to preserve the casing (capitalisation)\n",
      " |          of text used in the `tokenize` method. Defaults to True.\n",
      " |      :type preserve_case: bool\n",
      " |      :param reduce_len: Flag indicating whether to replace repeated character sequences\n",
      " |          of length 3 or greater with sequences of length 3. Defaults to False.\n",
      " |      :type reduce_len: bool\n",
      " |      :param strip_handles: Flag indicating whether to remove Twitter handles of text used\n",
      " |          in the `tokenize` method. Defaults to False.\n",
      " |      :type strip_handles: bool\n",
      " |      :param match_phone_numbers: Flag indicating whether the `tokenize` method should look\n",
      " |          for phone numbers. Defaults to True.\n",
      " |      :type match_phone_numbers: bool\n",
      " |  \n",
      " |  tokenize(self, text: str) -> List[str]\n",
      " |      Tokenize the input text.\n",
      " |      \n",
      " |      :param text: str\n",
      " |      :rtype: list(str)\n",
      " |      :return: a tokenized list of strings; joining this list returns        the original string if `preserve_case=False`.\n",
      " |  \n",
      " |  ----------------------------------------------------------------------\n",
      " |  Readonly properties defined here:\n",
      " |  \n",
      " |  PHONE_WORD_RE\n",
      " |      Secondary core TweetTokenizer regex\n",
      " |  \n",
      " |  WORD_RE\n",
      " |      Core TweetTokenizer regex\n",
      " |  \n",
      " |  ----------------------------------------------------------------------\n",
      " |  Data and other attributes defined here:\n",
      " |  \n",
      " |  __abstractmethods__ = frozenset()\n",
      " |  \n",
      " |  ----------------------------------------------------------------------\n",
      " |  Methods inherited from nltk.tokenize.api.TokenizerI:\n",
      " |  \n",
      " |  span_tokenize(self, s: str) -> Iterator[Tuple[int, int]]\n",
      " |      Identify the tokens using integer offsets ``(start_i, end_i)``,\n",
      " |      where ``s[start_i:end_i]`` is the corresponding token.\n",
      " |      \n",
      " |      :rtype: Iterator[Tuple[int, int]]\n",
      " |  \n",
      " |  span_tokenize_sents(self, strings: List[str]) -> Iterator[List[Tuple[int, int]]]\n",
      " |      Apply ``self.span_tokenize()`` to each element of ``strings``.  I.e.:\n",
      " |      \n",
      " |          return [self.span_tokenize(s) for s in strings]\n",
      " |      \n",
      " |      :yield: List[Tuple[int, int]]\n",
      " |  \n",
      " |  tokenize_sents(self, strings: List[str]) -> List[List[str]]\n",
      " |      Apply ``self.tokenize()`` to each element of ``strings``.  I.e.:\n",
      " |      \n",
      " |          return [self.tokenize(s) for s in strings]\n",
      " |      \n",
      " |      :rtype: List[List[str]]\n",
      " |  \n",
      " |  ----------------------------------------------------------------------\n",
      " |  Data descriptors inherited from nltk.tokenize.api.TokenizerI:\n",
      " |  \n",
      " |  __dict__\n",
      " |      dictionary for instance variables (if defined)\n",
      " |  \n",
      " |  __weakref__\n",
      " |      list of weak references to the object (if defined)\n",
      "\n"
     ],
     "output_type":"stream"
    }
   ],
   "metadata":{
    "datalore":{
     "node_id":"rAHfuu7GBkVPPZJeaQ2XGU",
     "type":"CODE",
     "hide_input_from_viewers":false,
     "hide_output_from_viewers":false,
     "report_properties":{
      "rowId":"phPAg4lws9cnI1bJVyDjFl"
     }
    }
   }
  },
  {
   "cell_type":"code",
   "source":[
    "# -- YOUR CODE HERE --\n",
    "tw = TweetTokenizer()\n",
    "cnt_vec = CountVectorizer(tokenizer=tw.tokenize)\n",
    "X1 = cnt_vec.fit_transform(train[\"text\"])"
   ],
   "execution_count":102,
   "outputs":[
    
   ],
   "metadata":{
    "datalore":{
     "node_id":"ZIUgeqpckYLFdzjo4BhEkk",
     "type":"CODE",
     "hide_input_from_viewers":false,
     "hide_output_from_viewers":false,
     "report_properties":{
      "rowId":"TUlzeRSzjNLb9htaFRhwud"
     }
    }
   }
  },
  {
   "cell_type":"code",
   "source":[
    "investigate_vocabulary(cnt_vec.vocabulary_)"
   ],
   "execution_count":103,
   "outputs":[
    {
     "name":"stdout",
     "text":[
      "With digit:       3939\n",
      "With punctuation: 7338\n",
      "Hashtags:         1470\n",
      "Mentions:         1679\n"
     ],
     "output_type":"stream"
    }
   ],
   "metadata":{
    "datalore":{
     "node_id":"jynxnO5xgenjdxoYYqGnQF",
     "type":"CODE",
     "hide_input_from_viewers":false,
     "hide_output_from_viewers":false,
     "report_properties":{
      "rowId":"T94He6Vg9qZMH6tplQbu4w"
     }
    }
   }
  },
  {
   "cell_type":"markdown",
   "source":[
    "**Сравнение:** Видим, что через этот токенайзер уже больше значений в словаре, потому что он стал выделять отдельные знаки препинания, как отдельные значения - смайлики, кроме того, этот специальный для твиттера токенайзер распознает хештеги и упоминания."
   ],
   "attachments":{
    
   },
   "metadata":{
    "datalore":{
     "node_id":"ZZjsCSvlvb2icJeJNuvVl3",
     "type":"MD",
     "hide_input_from_viewers":false,
     "hide_output_from_viewers":false,
     "report_properties":{
      "rowId":"yLqVbsGUB17eGJXhfwHFCs"
     }
    }
   }
  },
  {
   "cell_type":"markdown",
   "source":[
    "## Задание 7 (2 балла)\n",
    "\n",
    "В scikit-learn мы можем оценивать процесс подсчета матрицы через CountVectorizer. У CountVectorizer, как и у других наследников \\_VectorizerMixin, есть аргумент tokenizer и preprocessor. preprocessor применится в самом начале к каждой строке вашего датасета, tokenizer же должен принять строку и вернуть токены.\n",
    "Давайте напишем кастомный токенайзер, которые сделает все, что нам нужно: \n",
    "\n",
    "0. Приведет все буквы к нижнему регистру\n",
    "1. Разобьет текст на токены с помощью TweetTokenizer из пакета nltk\n",
    "2. Удалит все токены содержащие не латинские буквы, кроме смайликов (будем считать ими токены содержащие только пунктуацию и, как минимум, одну скобочку) и хэштегов, которые после начальной # содержат только латинские буквы.\n",
    "3. Удалит все токены, которые перечислены в nltk.corpus.stopwords.words('english')\n",
    "4. Проведет стемминг с помощью SnowballStemmer\n"
   ],
   "attachments":{
    
   },
   "metadata":{
    "datalore":{
     "node_id":"VOcENDXDHlC7k73XxI2HuF",
     "type":"MD",
     "hide_input_from_viewers":false,
     "hide_output_from_viewers":false,
     "report_properties":{
      "rowId":"eKb2wzKC5IVJZNMWyq0mcL"
     }
    }
   }
  },
  {
   "cell_type":"code",
   "source":[
    "import nltk\n",
    "nltk.download(\"stopwords\", quiet=True)\n",
    "from nltk.corpus import stopwords\n",
    "from nltk.stem.snowball import SnowballStemmer\n",
    "\n",
    "def contains_only_latin_letters(s: str) -> bool:\n",
    "    # Проверка, содержит ли слово только латинские буквы\n",
    "    # -- YOUR CODE HERE --\n",
    "    if s.isalpha():\n",
    "        return bool(re.search(r\"[a-zA-Z]+\", s))   # Используем регулярное выражение для всех латинских символов\n",
    "    else:\n",
    "        return False\n",
    "\n",
    "def is_emoji(s: str) -> bool:\n",
    "    # Проверка, является ли слово смайликом\n",
    "    # -- YOUR CODE HERE --\n",
    "    return bool(re.search(r'^[^\\w\\s]*[()]+[^\\w\\s]*$', s))\n",
    "\n",
    "def is_hashtag(s: str) -> bool:\n",
    "    # Проверка, является ли слово хэштегом\n",
    "    # -- YOUR CODE HERE --\n",
    "    if s[0] == \"#\" and contains_only_latin_letters(s[1:]):  # Проверяем, чтобы вначале был #, остальная часть чтобы была из латинских букв\n",
    "        return True\n",
    "    else:\n",
    "        return False\n",
    "    \n",
    "def custom_tokenizer(s: str) -> List[str]:    \n",
    "    # Кастомный токенайзер\n",
    "    # -- YOUR CODE HERE --\n",
    "    List1 = tw.tokenize(s.lower()) # Токенизируем переведенную в нижний регистр строку\n",
    "    result = []\n",
    "    ss = SnowballStemmer(\"english\")\n",
    "    for word in List1:\n",
    "        if (contains_only_latin_letters(word) or is_emoji(word) or is_hashtag(word)) and (word not in stopwords.words(\"english\")):\n",
    "            result.append(ss.stem(word))   # Слово должно в системе: (не относиться к стоп-словам) и (принадлежать одной из групп: 1) слова из латинских букв, 2) смайлики, 3) хэштеги)\n",
    "    return result\n",
    "  "
   ],
   "execution_count":104,
   "outputs":[
    
   ],
   "metadata":{
    "datalore":{
     "node_id":"wpMNTsvQ99N1T3ikJ6zak8",
     "type":"CODE",
     "hide_input_from_viewers":false,
     "hide_output_from_viewers":false,
     "report_properties":{
      "rowId":"zLpvgb1V63l1BgPAdymXiO"
     }
    }
   }
  },
  {
   "cell_type":"code",
   "source":[
    "custom_tokenizer('She LOVES painting :-) #art')"
   ],
   "execution_count":105,
   "outputs":[
    {
     "data":{
      "text\/plain":[
       "['love', 'paint', ':-)', '#art']"
      ]
     },
     "metadata":{
      
     },
     "output_type":"display_data"
    }
   ],
   "metadata":{
    "datalore":{
     "node_id":"vgk128ewx8o9cHC3Yg90zy",
     "type":"CODE",
     "hide_input_from_viewers":false,
     "hide_output_from_viewers":false,
     "report_properties":{
      "rowId":"EZW1YMyWi6Zvnu2H5PAE2H"
     }
    }
   }
  },
  {
   "cell_type":"code",
   "source":[
    "train_new[\"text\"][:10]"
   ],
   "execution_count":106,
   "outputs":[
    {
     "data":{
      "text\/html":[
       "<pre>1186    bridge%20collapse  Ashes 2015: AustraliaÛªs c...\n",
       "4071    hail Carol Stream, Illinois GREAT MICHIGAN TEC...\n",
       "5461    police Houston  CNN: Tennessee movie theater s...\n",
       "5787    rioting  Still rioting in a couple of hours le...\n",
       "7445    wounds Lake Highlands Crack in the path where ...\n",
       "151     airplane%20accident Somewhere Out There Expert...\n",
       "915     bloody Isolated City In World Perth 'I came to...\n",
       "1305    burning  @JohnsonTionne except idk them?? it's...\n",
       "2570    destroy he\/him or she\/her (ask) destroy the house\n",
       "7399    wounded Maracay y Nirgua, Venezuela Police Off...\n",
       "Name: text, dtype: object<\/pre>"
      ]
     },
     "metadata":{
      
     },
     "output_type":"display_data"
    }
   ],
   "metadata":{
    "datalore":{
     "node_id":"Lps0SnSWoqpd83ooH6nnP4",
     "type":"CODE",
     "hide_input_from_viewers":true,
     "hide_output_from_viewers":true
    }
   }
  },
  {
   "cell_type":"markdown",
   "source":[
    "Продемонстрируйте работу вашей функции на первых десяти текстах в обучающей выборке."
   ],
   "attachments":{
    
   },
   "metadata":{
    "datalore":{
     "node_id":"dfSuernLHPWSjFhtUn5mcz",
     "type":"MD",
     "hide_input_from_viewers":false,
     "hide_output_from_viewers":false,
     "report_properties":{
      "rowId":"urD7qX0vv7DzGA1N5KIv2y"
     }
    }
   }
  },
  {
   "cell_type":"code",
   "source":[
    "# -- YOUR CODE HERE --\n",
    "for line in train_new[\"text\"][:10]:\n",
    "    print(custom_tokenizer(line))"
   ],
   "execution_count":107,
   "outputs":[
    {
     "name":"stdout",
     "text":[
      "['bridg', 'ash', 'australia', 'ûªs', 'collaps', 'trent', 'bridg', 'among', 'worst', 'histori', 'england', 'bundl', 'australia']\n",
      "['hail', 'carol', 'stream', 'illinoi', 'great', 'michigan', 'techniqu', 'camp', 'thank', '#goblu', '#wrestleon']\n",
      "['polic', 'houston', 'cnn', 'tennesse', 'movi', 'theater', 'shoot', 'suspect', 'kill', 'polic']\n",
      "['riot', 'still', 'riot', 'coupl', 'hour', 'left', 'class']\n",
      "['wound', 'lake', 'highland', 'crack', 'path', 'wipe', 'morn', 'beach', 'run', 'surfac', 'wound', 'left', 'elbow', 'right', 'knee']\n",
      "['airplan', 'somewher', 'expert', 'franc', 'begin', 'examin', 'airplan', 'debri', 'found', 'reunion', 'island', 'french', 'air', 'accid', 'expert', '#mlb']\n",
      "['bloodi', 'isol', 'citi', 'world', 'perth', 'came', 'kill', 'indian', 'fun', 'video', 'smirk', 'remorseless', 'pakistani', 'killer', 'show', 'boast']\n",
      "['burn', 'except', 'idk', 'realli', 'burn']\n",
      "['destroy', '(', 'ask', ')', 'destroy', 'hous']\n",
      "['wound', 'maracay', 'nirgua', 'venezuela', 'polic', 'offic', 'wound', 'suspect', 'dead', 'exchang', 'shot']\n"
     ],
     "output_type":"stream"
    }
   ],
   "metadata":{
    "datalore":{
     "node_id":"6ne25llZRE8pN6z46qDDRg",
     "type":"CODE",
     "hide_input_from_viewers":false,
     "hide_output_from_viewers":false,
     "report_properties":{
      "rowId":"Ujjgun7yabpuQhf87Cc6mP"
     }
    }
   }
  },
  {
   "cell_type":"markdown",
   "source":[
    "## Задание 8 (1 балл)\n",
    "\n",
    "1. Примените CountVectorizer с реализованным выше токенизатором к обучающим и тестовым выборкам."
   ],
   "attachments":{
    
   },
   "metadata":{
    "datalore":{
     "node_id":"S8b9xIujZvfENJRm0sZcIC",
     "type":"MD",
     "hide_input_from_viewers":false,
     "hide_output_from_viewers":false,
     "report_properties":{
      "rowId":"MiBmXUfteS5tkz4xvOLoTH"
     }
    }
   }
  },
  {
   "cell_type":"code",
   "source":[
    "vectorizer = CountVectorizer(tokenizer=custom_tokenizer)\n",
    "# -- YOUR CODE HERE --\n",
    "X_train = train_new[\"text\"]\n",
    "X_test = test_new[\"text\"]\n",
    "y_train = train_new[\"target\"]\n",
    "y_test = test_new[\"target\"]\n",
    "train1 = vectorizer.fit_transform(X_train)\n",
    "test1 = vectorizer.transform(X_test)"
   ],
   "execution_count":108,
   "outputs":[
    
   ],
   "metadata":{
    "datalore":{
     "node_id":"nJXvIGYghaEXkdHsTxYCca",
     "type":"CODE",
     "hide_input_from_viewers":false,
     "hide_output_from_viewers":false,
     "report_properties":{
      "rowId":"ZaPlwXvtT5Dwopo4Q7Sq2s"
     }
    }
   }
  },
  {
   "cell_type":"markdown",
   "source":[
    "2. Обучите LogisticRegression на полученных признаках."
   ],
   "attachments":{
    
   },
   "metadata":{
    "datalore":{
     "node_id":"DKIiEATmRyUmmdyhak7f0s",
     "type":"MD",
     "hide_input_from_viewers":false,
     "hide_output_from_viewers":false,
     "report_properties":{
      "rowId":"vk3V67dhnAuyUdPwMisBX7"
     }
    }
   }
  },
  {
   "cell_type":"code",
   "source":[
    "from sklearn.linear_model import LogisticRegression\n",
    "# -- YOUR CODE HERE --\n",
    "clf = LogisticRegression()\n",
    "clf.fit(train1, y_train)\n",
    "y_pred = clf.predict(test1)"
   ],
   "execution_count":109,
   "outputs":[
    
   ],
   "metadata":{
    "datalore":{
     "node_id":"ZOtA0Hf9qzJ5kabQ0x6xzV",
     "type":"CODE",
     "hide_input_from_viewers":false,
     "hide_output_from_viewers":false,
     "report_properties":{
      "rowId":"Vz3g0xTaY3FCFcMVmlbAJz"
     }
    }
   }
  },
  {
   "cell_type":"markdown",
   "source":[
    "3. Посчитайте метрику f1-score на тестовых данных."
   ],
   "attachments":{
    
   },
   "metadata":{
    "datalore":{
     "node_id":"Pd0kdzphvS5vPbD0Cz0mAi",
     "type":"MD",
     "hide_input_from_viewers":false,
     "hide_output_from_viewers":false,
     "report_properties":{
      "rowId":"EphLZZm64LF4zoz7ZBP7DG"
     }
    }
   }
  },
  {
   "cell_type":"code",
   "source":[
    "from sklearn.metrics import f1_score\n",
    "\n",
    "# -- YOUR CODE HERE --\n",
    "print(f'Метрика f1-score через Count-Vectorizer: {f1_score(y_test, y_pred)}')"
   ],
   "execution_count":110,
   "outputs":[
    {
     "name":"stdout",
     "text":[
      "Метрика f1-score через Count-Vectorizer: 0.7512090274046211\n"
     ],
     "output_type":"stream"
    }
   ],
   "metadata":{
    "datalore":{
     "node_id":"U395qACKhwqpbxvkc7qHUz",
     "type":"CODE",
     "hide_input_from_viewers":false,
     "hide_output_from_viewers":false,
     "report_properties":{
      "rowId":"ryFNl0PgEY9hNudoCftLWl"
     }
    }
   }
  },
  {
   "cell_type":"markdown",
   "source":[
    "## Задание 9 (1 балл)\n",
    "\n",
    "1. Повторите 8 задание, но с tf-idf векторизатором. Как изменилось качество?"
   ],
   "attachments":{
    
   },
   "metadata":{
    "datalore":{
     "node_id":"vHwN331sJNfatvrW0kdSmw",
     "type":"MD",
     "hide_input_from_viewers":false,
     "hide_output_from_viewers":false,
     "report_properties":{
      "rowId":"zb4qyhdr96pqvQDpO9I3BF"
     }
    }
   }
  },
  {
   "cell_type":"code",
   "source":[
    "from sklearn.feature_extraction.text import TfidfVectorizer\n",
    "\n",
    "# 1\n",
    "tfidf_vec = TfidfVectorizer(tokenizer=custom_tokenizer)\n",
    "train2 = tfidf_vec.fit_transform(X_train)\n",
    "test2 = tfidf_vec.transform(X_test)\n",
    "clf2 = LogisticRegression()\n",
    "clf2.fit(train2, y_train)\n",
    "y_pred2 = clf2.predict(test2)\n",
    "print(f'Метрика f1-score через TfidfVectorizer: {f1_score(y_test, y_pred2)}')"
   ],
   "execution_count":111,
   "outputs":[
    {
     "name":"stdout",
     "text":[
      "Метрика f1-score через TfidfVectorizer: 0.7437465258476932\n"
     ],
     "output_type":"stream"
    }
   ],
   "metadata":{
    "datalore":{
     "node_id":"STgpnto9R7oQ1B0cDLcSy3",
     "type":"CODE",
     "hide_input_from_viewers":false,
     "hide_output_from_viewers":false,
     "report_properties":{
      "rowId":"6Qlcvk636DlGmJUelnoKez"
     }
    }
   }
  },
  {
   "cell_type":"markdown",
   "source":[
    "1. **Ответ:** Качество незначительно ухудшилось через TfidfVectorizer."
   ],
   "attachments":{
    
   },
   "metadata":{
    "datalore":{
     "node_id":"BZCMtKlGVUO29bc6wjNCr9",
     "type":"MD",
     "hide_input_from_viewers":false,
     "hide_output_from_viewers":false,
     "report_properties":{
      "rowId":"wRmdMVzPpZuv6PE2CtNGCx"
     }
    }
   }
  },
  {
   "cell_type":"markdown",
   "source":[
    "2. Мы можем еще сильнее уменьшить размер нашей матрицы, если отбросим значения df близкие к единице. Скорее всего такие слова не несут много информации о категории, так как встречаются достаточно часто. Ограничьте максимальный df в параметрах TfIdfVectorizer, поставьте верхнюю границу равную 0.9. Как изменился размер матрицы, как изменилось качество?"
   ],
   "attachments":{
    
   },
   "metadata":{
    "datalore":{
     "node_id":"Za6hfIIYP5DgPfudzVGeYv",
     "type":"MD",
     "hide_input_from_viewers":false,
     "hide_output_from_viewers":false,
     "report_properties":{
      "rowId":"rgQvwhLXRwBBbis7KSFZBE"
     }
    }
   }
  },
  {
   "cell_type":"code",
   "source":[
    "# 2\n",
    "tfidf_vec = TfidfVectorizer(tokenizer=custom_tokenizer, max_df=0.9)\n",
    "train3 = tfidf_vec.fit_transform(X_train)\n",
    "test3 = tfidf_vec.transform(X_test)\n",
    "clf3 = LogisticRegression()\n",
    "clf3.fit(train3, y_train)\n",
    "y_pred3 = clf3.predict(test3)"
   ],
   "execution_count":112,
   "outputs":[
    
   ],
   "metadata":{
    "datalore":{
     "node_id":"oxNzzUziWS7J2wx4THugW2",
     "type":"CODE",
     "hide_input_from_viewers":false,
     "hide_output_from_viewers":false,
     "report_properties":{
      "rowId":"zfi9Xh5MsZcHI9NtThlme2"
     }
    }
   }
  },
  {
   "cell_type":"code",
   "source":[
    "# -- YOUR CODE HERE --\n",
    "print(f'Размер матрицы был: {train2.shape}')\n",
    "print(f'Размер матрицы стал: {train3.shape}')\n",
    "print(f'Метрика f1-score через TfidfVectorizer: {f1_score(y_test, y_pred2)}')"
   ],
   "execution_count":113,
   "outputs":[
    {
     "name":"stdout",
     "text":[
      "Размер матрицы был: (5329, 10575)\n",
      "Размер матрицы стал: (5329, 10575)\n",
      "Метрика f1-score через TfidfVectorizer: 0.7437465258476932\n"
     ],
     "output_type":"stream"
    }
   ],
   "metadata":{
    "datalore":{
     "node_id":"94rCI6rujFQmW5HMbDWaWM",
     "type":"CODE",
     "hide_input_from_viewers":false,
     "hide_output_from_viewers":false,
     "report_properties":{
      "rowId":"OYw900swUJqgHWRNYK5GUS"
     }
    }
   }
  },
  {
   "cell_type":"markdown",
   "source":[
    "2. **Ответ:** Установление верхней планки встречаемости слова не повлияло на размер матрицы и на `f1-score`, что свидетельствует об отсутствии настолько часто встречающихся слов."
   ],
   "attachments":{
    
   },
   "metadata":{
    "datalore":{
     "node_id":"ex3TxiQHKKkpKkD1oAe0Jc",
     "type":"MD",
     "hide_input_from_viewers":false,
     "hide_output_from_viewers":false,
     "report_properties":{
      "rowId":"Gbjz5fr7WOcwI6r8Zjf9tu"
     }
    }
   }
  },
  {
   "cell_type":"markdown",
   "source":[
    "3. Также мы можем уменьшить размер матрицы, удаляя слова со слишком маленьким df. Удалось ли добиться улучшения качества? "
   ],
   "attachments":{
    
   },
   "metadata":{
    "datalore":{
     "node_id":"E1MeBGUN0XDESvtRT2X3DL",
     "type":"MD",
     "hide_input_from_viewers":false,
     "hide_output_from_viewers":false,
     "report_properties":{
      "rowId":"G3uCEbARY7PoOqyAhEi21v"
     }
    }
   }
  },
  {
   "cell_type":"code",
   "source":[
    "# 3\n",
    "tfidf_vec = TfidfVectorizer(tokenizer=custom_tokenizer, min_df=0.001, max_df=0.9)\n",
    "train4 = tfidf_vec.fit_transform(X_train)\n",
    "test4 = tfidf_vec.transform(X_test)\n",
    "clf4 = LogisticRegression()\n",
    "clf4.fit(train4, y_train)\n",
    "y_pred4 = clf4.predict(test4)\n",
    "print(f'Размер матрицы был: {train3.shape}')\n",
    "print(f'Размер матрицы стал: {train4.shape}')\n",
    "print(f'Метрика f1-score через TfidfVectorizer: {f1_score(y_test, y_pred4)}')"
   ],
   "execution_count":119,
   "outputs":[
    {
     "name":"stdout",
     "text":[
      "Размер матрицы был: (5329, 10575)\n",
      "Размер матрицы стал: (5329, 1747)\n",
      "Метрика f1-score через TfidfVectorizer: 0.7449259462424574\n"
     ],
     "output_type":"stream"
    }
   ],
   "metadata":{
    "datalore":{
     "node_id":"yzVHGEaNgjFYbqNOXtIIMY",
     "type":"CODE",
     "hide_input_from_viewers":false,
     "hide_output_from_viewers":false,
     "report_properties":{
      "rowId":"DtddGFgChOoYvsWYQiBQKe"
     }
    }
   }
  },
  {
   "cell_type":"markdown",
   "source":[
    "1. **Ответ:** Чем сильнее мы увеличиваем минимальный размер `document frecuency`, тем большая часть часть слов отсеивается, признаков становится меньше (матрица становится меньше), обучаемся быстрее и при этом наша `f1` метрика качества немного выросла, но если сильно увеличивать `min_df`, то `f1` будет уменьшаться."
   ],
   "attachments":{
    
   },
   "metadata":{
    "datalore":{
     "node_id":"RdnxlOpe4rjAsfBEmBUdUv",
     "type":"MD",
     "hide_input_from_viewers":false,
     "hide_output_from_viewers":false,
     "report_properties":{
      "rowId":"LXFaX451bGACLP4usG5Sgx"
     }
    }
   }
  },
  {
   "cell_type":"markdown",
   "source":[
    "## Задание 10 (1 балл)\n",
    "\n",
    "Еще один популяпный трюк, который позволит уменьшить количество признаков называется hashing trick. Его суть в том, то мы случайно группируем признаки ииии  ..... складываем их! А потом удаляем исходные признаки. В итоге все наши признаки это просто суммы исходных. Звучит странно, но это отлично работает. Давайте проверим этот трюк в нашем сеттинге.\n",
    "Также при таком подходе вам не нужно хранить словарь token->index, что тоже иногда полезно.\n",
    "\n",
    "1. Повторите задание 8 с HashingVectorizer, укажите количество фичей равное 5000."
   ],
   "attachments":{
    
   },
   "metadata":{
    "datalore":{
     "node_id":"WToZAQxoT9ZdphU0qk3Wk5",
     "type":"MD",
     "hide_input_from_viewers":false,
     "hide_output_from_viewers":false,
     "report_properties":{
      "rowId":"bgG0o53ucXSzw5PgZqEG91"
     }
    }
   }
  },
  {
   "cell_type":"code",
   "source":[
    "from sklearn.feature_extraction.text import HashingVectorizer\n",
    "import warnings\n",
    "warnings.filterwarnings(\"ignore\")\n",
    "\n",
    "# -- YOUR CODE HERE --\n",
    "hv = HashingVectorizer(tokenizer=custom_tokenizer, n_features = 5000)\n",
    "train5 = hv.fit_transform(X_train)\n",
    "test5 = hv.transform(X_test)\n",
    "clf5 = LogisticRegression()\n",
    "clf5.fit(train5, y_train)\n",
    "y_pred5 = clf5.predict(test5)\n",
    "print(f'F1 score: {f1_score(y_test, y_pred5)}')"
   ],
   "execution_count":115,
   "outputs":[
    {
     "name":"stdout",
     "text":[
      "F1 score: 0.7193763919821827\n"
     ],
     "output_type":"stream"
    }
   ],
   "metadata":{
    "datalore":{
     "node_id":"41qMOzo0mLdkuOZeIr2dCc",
     "type":"CODE",
     "hide_input_from_viewers":false,
     "hide_output_from_viewers":false,
     "report_properties":{
      "rowId":"LMc4TJxZdeD2VtpVlcGUnz"
     }
    }
   }
  },
  {
   "cell_type":"markdown",
   "source":[
    "2. Какой из подходов показал самый высокий результат?"
   ],
   "attachments":{
    
   },
   "metadata":{
    "datalore":{
     "node_id":"SI8DAHtNsrGqJhTx5jMqiU",
     "type":"MD",
     "hide_input_from_viewers":false,
     "hide_output_from_viewers":false,
     "report_properties":{
      "rowId":"uqJwtJF3gvmnk9fDnyquhP"
     }
    }
   }
  },
  {
   "cell_type":"markdown",
   "source":[
    "2. **Ответ:** Через `HashingVectorizer` получилось более низкое значение `f1` метрики качества. Самый лучший результат показал `CountVectorizer` с использованием созданного нами токенизатора."
   ],
   "attachments":{
    
   },
   "metadata":{
    "datalore":{
     "node_id":"1GVw9XhG6BjpKldyHqR3G3",
     "type":"MD",
     "hide_input_from_viewers":false,
     "hide_output_from_viewers":false,
     "report_properties":{
      "rowId":"hsJET4xuXviHzi6ZH3Dsfe"
     }
    }
   }
  },
  {
   "cell_type":"markdown",
   "source":[
    "## Задание 11 (1 балл)\n",
    "\n",
    "В этом задании нужно добиться f1 меры хотя в 0.75 на тестовых данных."
   ],
   "attachments":{
    
   },
   "metadata":{
    "datalore":{
     "node_id":"beiw5FAOxSR7O9c4jLs9Rl",
     "type":"MD",
     "hide_input_from_viewers":false,
     "hide_output_from_viewers":false,
     "report_properties":{
      "rowId":"Lh1MYFGPw1eGGBMxjxowQQ"
     }
    }
   }
  },
  {
   "cell_type":"markdown",
   "source":[
    "Наибольшая `f1-мера` уже была получена в __8 задании__ через *CountVectorizer(tokenizer=custom_tokenizer)*."
   ],
   "attachments":{
    
   },
   "metadata":{
    "datalore":{
     "node_id":"2BRLk00qEOxJmfnAI7TCjO",
     "type":"MD",
     "hide_input_from_viewers":true,
     "hide_output_from_viewers":true
    }
   }
  }
 ],
 "metadata":{
  "kernelspec":{
   "display_name":"Python",
   "language":"python",
   "name":"python"
  },
  "datalore":{
   "computation_mode":"JUPYTER",
   "package_manager":"pip",
   "base_environment":"default",
   "packages":[
    {
     "name":"nltk",
     "version":"3.8.1",
     "source":"PIP"
    }
   ],
   "report_row_ids":[
    "CjlHRtoXYvvKbADUMvUDKN",
    "eSICnUc8QNZjkfDHBU6Nbc",
    "Guxb236NTVIuCOlYLDhFmY",
    "nc5nulVF2oMuB8DQmMnjmk",
    "kmrEwsBsc7y8teg6jpQ0Lb",
    "DNT4ckeVHOvHfhnF5zXTuu",
    "jNwUgnMYKNmaG6IUwNinAu",
    "EtHXlVpvhDRXVuTK4qfY4k",
    "DAYoEDx5S2RNATphZXDX7H",
    "BhWkQzrBOaPlGymHMPfwnV",
    "YhDp7G7WHu9OXYRczSWdZt",
    "lK5nexLPI1H5HIKs8lTPuM",
    "zecqrRKQRCtIgExsRpTWbk",
    "dGoVRl1m1uvilNNsAa0hVT",
    "fTAp7GfJFgz3tL8GAKpMEM",
    "KcDEt6hKeVico8kinNV31K",
    "vAEGbP4aHniIylO88pwywc",
    "nTlrCxvHtkef7oq37OV5tu",
    "NgYSxSt2ErRJmU9Whr6RuU",
    "ozBKbV7q0CyXS06pvePnCX",
    "0r6BOemlC2DoZfgIEyDZ17",
    "dp74f8alAGHuvfVnVlP1hN",
    "f7jLdc0o29z8bfLQx9RfQb",
    "W8vY0Gljod8WwUyp1Hcd3v",
    "fxnIW7f3OF7fZeCJ0rK7Rc",
    "o6I8HZzGIfiQUdXZ3qM1Iq",
    "phPAg4lws9cnI1bJVyDjFl",
    "TUlzeRSzjNLb9htaFRhwud",
    "T94He6Vg9qZMH6tplQbu4w",
    "yLqVbsGUB17eGJXhfwHFCs",
    "eKb2wzKC5IVJZNMWyq0mcL",
    "zLpvgb1V63l1BgPAdymXiO",
    "EZW1YMyWi6Zvnu2H5PAE2H",
    "urD7qX0vv7DzGA1N5KIv2y",
    "Ujjgun7yabpuQhf87Cc6mP",
    "MiBmXUfteS5tkz4xvOLoTH",
    "ZaPlwXvtT5Dwopo4Q7Sq2s",
    "vk3V67dhnAuyUdPwMisBX7",
    "Vz3g0xTaY3FCFcMVmlbAJz",
    "EphLZZm64LF4zoz7ZBP7DG",
    "ryFNl0PgEY9hNudoCftLWl",
    "zb4qyhdr96pqvQDpO9I3BF",
    "6Qlcvk636DlGmJUelnoKez",
    "wRmdMVzPpZuv6PE2CtNGCx",
    "rgQvwhLXRwBBbis7KSFZBE",
    "zfi9Xh5MsZcHI9NtThlme2",
    "OYw900swUJqgHWRNYK5GUS",
    "Gbjz5fr7WOcwI6r8Zjf9tu",
    "G3uCEbARY7PoOqyAhEi21v",
    "DtddGFgChOoYvsWYQiBQKe",
    "LXFaX451bGACLP4usG5Sgx",
    "bgG0o53ucXSzw5PgZqEG91",
    "LMc4TJxZdeD2VtpVlcGUnz",
    "uqJwtJF3gvmnk9fDnyquhP",
    "hsJET4xuXviHzi6ZH3Dsfe",
    "Lh1MYFGPw1eGGBMxjxowQQ",
    "JybQuFBuufS27KO0R1luA8"
   ],
   "version":3
  }
 },
 "nbformat":4,
 "nbformat_minor":4
}